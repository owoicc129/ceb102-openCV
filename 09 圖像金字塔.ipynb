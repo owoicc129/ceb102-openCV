{
 "cells": [
  {
   "cell_type": "markdown",
   "metadata": {},
   "source": [
    "# pyrDown   由大縮小一半\n",
    "![alt text](./images/pyrdown.png)"
   ]
  },
  {
   "cell_type": "code",
   "execution_count": 1,
   "metadata": {},
   "outputs": [
    {
     "name": "stdout",
     "output_type": "stream",
     "text": [
      "o.shape= (512, 512)\n",
      "r1.shape= (256, 256)\n",
      "r2.shape= (128, 128)\n",
      "r3.shape= (64, 64)\n"
     ]
    }
   ],
   "source": [
    "import cv2\n",
    "o=cv2.imread(\"./images/lena.bmp\",cv2.IMREAD_GRAYSCALE)\n",
    "r1=cv2.pyrDown(o)  # .pyrDown 由大縮小\n",
    "r2=cv2.pyrDown(r1)\n",
    "r3=cv2.pyrDown(r2)\n",
    "print(\"o.shape=\",o.shape)\n",
    "print(\"r1.shape=\",r1.shape)\n",
    "print(\"r2.shape=\",r2.shape)\n",
    "print(\"r3.shape=\",r3.shape)\n",
    "\n",
    "cv2.imshow(\"original\",o)\n",
    "cv2.imshow(\"r1\",r1)\n",
    "cv2.imshow(\"r2\",r2)\n",
    "cv2.imshow(\"r3\",r3)\n",
    "cv2.waitKey()\n",
    "cv2.destroyAllWindows()"
   ]
  },
  {
   "cell_type": "markdown",
   "metadata": {},
   "source": [
    "# pyrup   由小變大 把裡面插0 再做高斯濾波器\n",
    "![alt text](./images/pyrup.png)"
   ]
  },
  {
   "cell_type": "code",
   "execution_count": 2,
   "metadata": {},
   "outputs": [
    {
     "name": "stdout",
     "output_type": "stream",
     "text": [
      "o.shape= (512, 512, 3)\n",
      "r1.shape= (1024, 1024, 3)\n",
      "r2.shape= (2048, 2048, 3)\n",
      "r3.shape= (4096, 4096, 3)\n"
     ]
    }
   ],
   "source": [
    "import cv2\n",
    "o=cv2.imread(\"./images/lena.bmp\")\n",
    "r1=cv2.pyrUp(o)\n",
    "r2=cv2.pyrUp(r1)\n",
    "r3=cv2.pyrUp(r2)\n",
    "print(\"o.shape=\",o.shape)\n",
    "print(\"r1.shape=\",r1.shape)\n",
    "print(\"r2.shape=\",r2.shape)\n",
    "print(\"r3.shape=\",r3.shape)\n",
    "\n",
    "cv2.imshow(\"original\",o)\n",
    "cv2.imshow(\"r1\",r1)\n",
    "cv2.imshow(\"r2\",r2)\n",
    "cv2.imshow(\"r3\",r3)\n",
    "cv2.waitKey()\n",
    "cv2.destroyAllWindows()"
   ]
  },
  {
   "cell_type": "code",
   "execution_count": 4,
   "metadata": {},
   "outputs": [
    {
     "name": "stdout",
     "output_type": "stream",
     "text": [
      "o.shape= (512, 512, 3)\n",
      "up.shape= (512, 512, 3)\n"
     ]
    }
   ],
   "source": [
    "import cv2\n",
    "o=cv2.imread(\"./images/lena.bmp\")\n",
    "down=cv2.pyrDown(o) #變小\n",
    "up=cv2.pyrUp(down)  #又變大\n",
    "\n",
    "#构造diff图像，查看up与o的区别  相減 看差值，發現不會跟原來的相同 會失真\n",
    "diff=up-o   \n",
    "\n",
    "print(\"o.shape=\",o.shape)\n",
    "print(\"up.shape=\",up.shape)\n",
    "\n",
    "cv2.imshow(\"original\",o)\n",
    "cv2.imshow(\"up\",up)\n",
    "cv2.imshow(\"difference\",diff)\n",
    "cv2.waitKey()\n",
    "cv2.destroyAllWindows()"
   ]
  },
  {
   "cell_type": "markdown",
   "metadata": {},
   "source": [
    "# 拉普拉斯金字塔 \n",
    "- 變小 又變大之後的值 跟原圖的差異\n",
    "![alt text](./images/laplacian_pyramid.png)"
   ]
  },
  {
   "cell_type": "code",
   "execution_count": 5,
   "metadata": {},
   "outputs": [
    {
     "name": "stdout",
     "output_type": "stream",
     "text": [
      "L0.shape= (512, 512, 3)\n",
      "L1.shape= (256, 256, 3)\n",
      "L2.shape= (128, 128, 3)\n"
     ]
    }
   ],
   "source": [
    "import cv2\n",
    "O=cv2.imread(\"./images/lena.bmp\")\n",
    "G0=O\n",
    "G1=cv2.pyrDown(G0)\n",
    "G2=cv2.pyrDown(G1)\n",
    "G3=cv2.pyrDown(G2)\n",
    "L0=G0-cv2.pyrUp(G1)\n",
    "L1=G1-cv2.pyrUp(G2)\n",
    "L2=G2-cv2.pyrUp(G3)\n",
    "print(\"L0.shape=\",L0.shape)\n",
    "print(\"L1.shape=\",L1.shape)\n",
    "print(\"L2.shape=\",L2.shape)\n",
    "cv2.imshow(\"L0\",L0)\n",
    "cv2.imshow(\"L1\",L1)\n",
    "cv2.imshow(\"L2\",L2)\n",
    "cv2.waitKey()\n",
    "cv2.destroyAllWindows()"
   ]
  },
  {
   "cell_type": "code",
   "execution_count": null,
   "metadata": {},
   "outputs": [],
   "source": []
  }
 ],
 "metadata": {
  "kernelspec": {
   "display_name": "Python 3",
   "language": "python",
   "name": "python3"
  },
  "language_info": {
   "codemirror_mode": {
    "name": "ipython",
    "version": 3
   },
   "file_extension": ".py",
   "mimetype": "text/x-python",
   "name": "python",
   "nbconvert_exporter": "python",
   "pygments_lexer": "ipython3",
   "version": "3.7.9"
  }
 },
 "nbformat": 4,
 "nbformat_minor": 4
}
