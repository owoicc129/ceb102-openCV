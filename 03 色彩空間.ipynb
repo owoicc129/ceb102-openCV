{
 "cells": [
  {
   "cell_type": "markdown",
   "metadata": {},
   "source": [
    "## Gray to BGR"
   ]
  },
  {
   "cell_type": "code",
   "execution_count": 1,
   "metadata": {},
   "outputs": [
    {
     "name": "stdout",
     "output_type": "stream",
     "text": [
      "img=\n",
      " [[ 39 167 101 132]\n",
      " [148 112 250  52]]\n",
      "rst=\n",
      " [[[ 39  39  39]\n",
      "  [167 167 167]\n",
      "  [101 101 101]\n",
      "  [132 132 132]]\n",
      "\n",
      " [[148 148 148]\n",
      "  [112 112 112]\n",
      "  [250 250 250]\n",
      "  [ 52  52  52]]]\n"
     ]
    }
   ],
   "source": [
    "import cv2\n",
    "import numpy as np\n",
    "img=np.random.randint(0,256,size=[2,4],dtype=np.uint8) #產生0~256 256不算\n",
    "rst=cv2.cvtColor(img,cv2.COLOR_GRAY2BGR)  #.cvtColor 轉換\n",
    "\n",
    "print(\"img=\\n\",img) \n",
    "print(\"rst=\\n\",rst) # 原本的每個元素 會變三層 ex: 39 變三層"
   ]
  },
  {
   "cell_type": "markdown",
   "metadata": {},
   "source": [
    "## BGR to RGB"
   ]
  },
  {
   "cell_type": "code",
   "execution_count": 2,
   "metadata": {},
   "outputs": [
    {
     "name": "stdout",
     "output_type": "stream",
     "text": [
      "img=\n",
      " [[[165  11 216]\n",
      "  [ 24 139 110]\n",
      "  [214 225  10]\n",
      "  [173 155   3]]\n",
      "\n",
      " [[117 159  82]\n",
      "  [183  70 213]\n",
      "  [127 116 127]\n",
      "  [ 52 230 199]]]\n",
      "rgb=\n",
      " [[[216  11 165]\n",
      "  [110 139  24]\n",
      "  [ 10 225 214]\n",
      "  [  3 155 173]]\n",
      "\n",
      " [[ 82 159 117]\n",
      "  [213  70 183]\n",
      "  [127 116 127]\n",
      "  [199 230  52]]]\n",
      "bgr=\n",
      " [[[165  11 216]\n",
      "  [ 24 139 110]\n",
      "  [214 225  10]\n",
      "  [173 155   3]]\n",
      "\n",
      " [[117 159  82]\n",
      "  [183  70 213]\n",
      "  [127 116 127]\n",
      "  [ 52 230 199]]]\n"
     ]
    }
   ],
   "source": [
    "import cv2\n",
    "import numpy as np\n",
    "img=np.random.randint(0,256,size=[2,4,3],dtype=np.uint8)\n",
    "rgb=cv2.cvtColor(img,cv2.COLOR_BGR2RGB)  # 調順序\n",
    "bgr=cv2.cvtColor(rgb,cv2.COLOR_RGB2BGR)\n",
    "print(\"img=\\n\",img)\n",
    "print(\"rgb=\\n\",rgb)\n",
    "print(\"bgr=\\n\",bgr)"
   ]
  },
  {
   "cell_type": "markdown",
   "metadata": {},
   "source": [
    "## Real image convert"
   ]
  },
  {
   "cell_type": "code",
   "execution_count": 1,
   "metadata": {},
   "outputs": [
    {
     "name": "stdout",
     "output_type": "stream",
     "text": [
      "lena.shape= (512, 512, 3)\n",
      "gray.shape= (512, 512)\n",
      "rgb.shape= (512, 512, 3)\n"
     ]
    }
   ],
   "source": [
    "#RGB<->GRAY\n",
    "import cv2\n",
    "lena=cv2.imread(\"images/lenacolor.png\")\n",
    "gray=cv2.cvtColor(lena,cv2.COLOR_BGR2GRAY)  # BGR 2 GRAY\n",
    "rgb=cv2.cvtColor(gray,cv2.COLOR_GRAY2BGR)\n",
    "\n",
    "#==========print shape============\n",
    "print(\"lena.shape=\",lena.shape) # 三層\n",
    "print(\"gray.shape=\",gray.shape) # 一層\n",
    "print(\"rgb.shape=\",rgb.shape)\n",
    "\n",
    "#==========show images============\n",
    "cv2.imshow(\"lena\",lena) #從彩色 轉灰色 又要轉彩色，會發現 灰色無法轉成彩色\n",
    "cv2.imshow(\"gray\",gray)\n",
    "cv2.imshow(\"rgb\",rgb)\n",
    "cv2.waitKey()\n",
    "cv2.destroyAllWindows()"
   ]
  },
  {
   "cell_type": "code",
   "execution_count": 2,
   "metadata": {},
   "outputs": [],
   "source": [
    "import cv2\n",
    "lena=cv2.imread(\"images/lenacolor.png\")\n",
    "rgb = cv2.cvtColor(lena, cv2.COLOR_BGR2RGB)\n",
    "\n",
    "cv2.imshow(\"lena\",lena)\n",
    "cv2.imshow(\"rgb\",rgb)  #順序要B G R 不然會怪怪\n",
    "cv2.waitKey()\n",
    "cv2.destroyAllWindows()"
   ]
  },
  {
   "cell_type": "markdown",
   "metadata": {},
   "source": [
    "## HSV"
   ]
  },
  {
   "cell_type": "code",
   "execution_count": 7,
   "metadata": {},
   "outputs": [
    {
     "name": "stdout",
     "output_type": "stream",
     "text": [
      "[[[0 0 0]]]\n",
      "Blue=\n",
      " [[[255   0   0]]]\n",
      "BlueHSV=\n",
      " [[[120 255 255]]]\n",
      "Green=\n",
      " [[[  0 255   0]]]\n",
      "GreenHSV=\n",
      " [[[ 60 255 255]]]\n",
      "Red=\n",
      " [[[  0   0 255]]]\n",
      "RedHSV=\n",
      " [[[  0 255 255]]]\n"
     ]
    }
   ],
   "source": [
    "import cv2\n",
    "import numpy as np\n",
    "\n",
    "#=========test blue in HSV=============\n",
    "imgBlue=np.zeros([1,1,3],dtype=np.uint8) # 一個1*3\n",
    "print(imgBlue)\n",
    "\n",
    "imgBlue[0,0,0]=255 # 長.寬 深度index  順序BGR\n",
    "Blue=imgBlue\n",
    "BlueHSV=cv2.cvtColor(Blue,cv2.COLOR_BGR2HSV)\n",
    "print(\"Blue=\\n\",Blue)\n",
    "print(\"BlueHSV=\\n\",BlueHSV)\n",
    "\n",
    "#=========test green in HSV=============\n",
    "imgGreen=np.zeros([1,1,3],dtype=np.uint8)\n",
    "imgGreen[0,0,1]=255\n",
    "Green=imgGreen\n",
    "GreenHSV=cv2.cvtColor(Green,cv2.COLOR_BGR2HSV)\n",
    "print(\"Green=\\n\",Green)\n",
    "print(\"GreenHSV=\\n\",GreenHSV)\n",
    "\n",
    "#=========test red in HSV=============\n",
    "imgRed=np.zeros([1,1,3],dtype=np.uint8)\n",
    "imgRed[0,0,2]=255\n",
    "Red=imgRed\n",
    "RedHSV=cv2.cvtColor(Red,cv2.COLOR_BGR2HSV)\n",
    "print(\"Red=\\n\",Red)\n",
    "print(\"RedHSV=\\n\",RedHSV)"
   ]
  },
  {
   "cell_type": "markdown",
   "metadata": {},
   "source": [
    "## Mask 遮罩 InRange 設定在你要的範圍 只秀出那部分"
   ]
  },
  {
   "cell_type": "code",
   "execution_count": 3,
   "metadata": {},
   "outputs": [
    {
     "name": "stdout",
     "output_type": "stream",
     "text": [
      "img=\n",
      " [[180  58 111  47 231]\n",
      " [ 98 209 119 132  47]\n",
      " [123  74  66  30  84]\n",
      " [233   7 115  38 118]\n",
      " [215 100 193  80 200]]\n",
      "mask=\n",
      " [[255   0 255   0   0]\n",
      " [  0   0 255 255   0]\n",
      " [255   0   0   0   0]\n",
      " [  0   0 255   0 255]\n",
      " [  0 255 255   0 255]]\n"
     ]
    }
   ],
   "source": [
    "import cv2\n",
    "import numpy as np\n",
    "img=np.random.randint(0,256,size=[5,5],dtype=np.uint8)\n",
    "min=100\n",
    "max=200\n",
    "\n",
    "mask = cv2.inRange(img, min, max)\n",
    "print(\"img=\\n\",img)\n",
    "print(\"mask=\\n\",mask)   #在min~max範圍內的就變255 範圍外的就變0"
   ]
  },
  {
   "cell_type": "markdown",
   "metadata": {},
   "source": [
    "## Mask 遮罩  bitwise_and 只顯示符合的像素"
   ]
  },
  {
   "cell_type": "code",
   "execution_count": 4,
   "metadata": {},
   "outputs": [
    {
     "name": "stdout",
     "output_type": "stream",
     "text": [
      "img=\n",
      " [[9 9 9 9 9]\n",
      " [9 9 9 9 9]\n",
      " [9 9 9 9 9]\n",
      " [9 9 9 9 9]\n",
      " [9 9 9 9 9]]\n",
      "mask=\n",
      " [[1 0 0 0 0]\n",
      " [1 0 0 0 0]\n",
      " [1 0 1 1 0]\n",
      " [0 0 1 1 0]\n",
      " [0 0 1 1 0]]\n",
      "roi=\n",
      " [[9 0 0 0 0]\n",
      " [9 0 0 0 0]\n",
      " [9 0 9 9 0]\n",
      " [0 0 9 9 0]\n",
      " [0 0 9 9 0]]\n"
     ]
    }
   ],
   "source": [
    "import cv2\n",
    "import numpy as np\n",
    "img=np.ones([5,5],dtype=np.uint8) * 9\n",
    "mask =np.zeros([5,5],dtype=np.uint8)\n",
    "mask[0:3,0]=1\n",
    "mask[2:5,2:4]=1\n",
    "\n",
    "roi=cv2.bitwise_and(img,img, mask= mask) #.bitwise_and 視為二進位處理 兩個都有1的才是1\n",
    "print(\"img=\\n\",img)\n",
    "print(\"mask=\\n\",mask)\n",
    "print(\"roi=\\n\",roi)"
   ]
  },
  {
   "cell_type": "markdown",
   "metadata": {},
   "source": [
    "### 假設感興趣的區間是 以下\n",
    "- Blue: (110, 50, 50) - (130, 255, 255)\n",
    "- Green: (50, 100, 100) - (70, 255, 255)\n",
    "- Red: (0,100,100) - (10, 255, 255)"
   ]
  },
  {
   "cell_type": "code",
   "execution_count": 8,
   "metadata": {},
   "outputs": [],
   "source": [
    "import cv2\n",
    "import numpy as np\n",
    "opencv=cv2.imread(\"./images/opencv.jpg\")\n",
    "hsv = cv2.cvtColor(opencv, cv2.COLOR_BGR2HSV)\n",
    "cv2.imshow('opencv',opencv)\n",
    "\n",
    "#=============blue range=============\n",
    "minBlue = np.array([110,50,50])\n",
    "maxBlue = np.array([130,255,255])\n",
    "mask = cv2.inRange(hsv, minBlue, maxBlue) #在範圍內的都變255 不在變0 \n",
    "\n",
    "blue = cv2.bitwise_and(opencv,opencv, mask= mask) #.bitwise_and 兩個都有1才是1\n",
    "cv2.imshow('blue',blue)\n",
    "\n",
    "#=============green range=============\n",
    "minGreen = np.array([50,50,50])\n",
    "maxGreen = np.array([70,255,255])\n",
    "mask = cv2.inRange(hsv, minGreen, maxGreen)\n",
    "\n",
    "green = cv2.bitwise_and(opencv,opencv, mask= mask)\n",
    "cv2.imshow('green',green)\n",
    "\n",
    "#=============red range=============\n",
    "minRed = np.array([0,50,50])\n",
    "maxRed = np.array([30,255,255])\n",
    "mask = cv2.inRange(hsv, minRed, maxRed)\n",
    "\n",
    "red= cv2.bitwise_and(opencv,opencv, mask= mask)\n",
    "cv2.imshow('red',red)\n",
    "\n",
    "cv2.waitKey()\n",
    "cv2.destroyAllWindows()"
   ]
  },
  {
   "cell_type": "markdown",
   "metadata": {},
   "source": [
    "### 假設 你想抓出皮膚色  (可上網找色碼)\n",
    "- H: 5 - 170\n",
    "- S: 25 - 166"
   ]
  },
  {
   "cell_type": "code",
   "execution_count": 1,
   "metadata": {},
   "outputs": [],
   "source": [
    "import cv2\n",
    "img=cv2.imread(\"./images/lesson2.jpg\")\n",
    "hsv = cv2.cvtColor(img, cv2.COLOR_BGR2HSV)\n",
    "h,s,v=cv2.split(hsv) #分3張\n",
    "\n",
    "minHue=5\n",
    "maxHue=170\n",
    "hueMask=cv2.inRange(h, minHue, maxHue)\n",
    "\n",
    "minSat=25\n",
    "maxSat=166\n",
    "satMask = cv2.inRange(s, minSat, maxSat)\n",
    "\n",
    "mask = hueMask & satMask #兩個做bitwise_and\n",
    "\n",
    "roi = cv2.bitwise_and(img,img, mask= mask)\n",
    "\n",
    "cv2.imshow(\"img\",img)\n",
    "cv2.imshow(\"ROI\",roi)\n",
    "cv2.waitKey()\n",
    "cv2.destroyAllWindows()"
   ]
  },
  {
   "cell_type": "code",
   "execution_count": 9,
   "metadata": {},
   "outputs": [],
   "source": [
    "import cv2\n",
    "img=cv2.imread(\"./images/barbara.bmp\")\n",
    "hsv = cv2.cvtColor(img, cv2.COLOR_BGR2HSV)\n",
    "h,s,v=cv2.split(hsv)\n",
    "v[:,:]=255 #把V 變成255\n",
    "newHSV=cv2.merge([h,s,v]) #三片合併\n",
    "art = cv2.cvtColor(newHSV, cv2.COLOR_HSV2BGR)\n",
    "\n",
    "cv2.imshow(\"img\",img)\n",
    "cv2.imshow(\"art\",art)\n",
    "cv2.waitKey()\n",
    "cv2.destroyAllWindows()"
   ]
  },
  {
   "cell_type": "code",
   "execution_count": null,
   "metadata": {},
   "outputs": [],
   "source": []
  }
 ],
 "metadata": {
  "kernelspec": {
   "display_name": "Python 3",
   "language": "python",
   "name": "python3"
  },
  "language_info": {
   "codemirror_mode": {
    "name": "ipython",
    "version": 3
   },
   "file_extension": ".py",
   "mimetype": "text/x-python",
   "name": "python",
   "nbconvert_exporter": "python",
   "pygments_lexer": "ipython3",
   "version": "3.7.9"
  }
 },
 "nbformat": 4,
 "nbformat_minor": 2
}
