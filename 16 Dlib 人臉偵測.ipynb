{
 "cells": [
  {
   "cell_type": "markdown",
   "metadata": {},
   "source": [
    "# Dlib  辨識器\n",
    "ref: http://dlib.net/\n",
    "用C++寫的，包含機器學習、計算機視覺、圖像處理等 的函式庫\n",
    "- 下載visual studio 安裝要打勾C++桌面\n",
    "1. `pip install cmake`\n",
    "2. `pip install dlib`"
   ]
  },
  {
   "cell_type": "code",
   "execution_count": 3,
   "metadata": {},
   "outputs": [],
   "source": [
    "import dlib\n",
    "import cv2\n",
    "import imutils\n",
    "\n",
    "img = cv2.imread('./images/humans.jpg')\n",
    "img = imutils.resize(img, width=1280) # 縮小圖片\n",
    "\n",
    "# Dlib 的人臉偵測器\n",
    "detector = dlib.get_frontal_face_detector() \n",
    "\n",
    "# 偵測人臉，輸出分數，子偵測器的編號(可判斷方向)\n",
    "face_rects, scores, idx = detector.run(img, 0, -1)\n",
    "\n",
    "# 取出所有偵測的結果\n",
    "for i, d in enumerate(face_rects):\n",
    "    x1 = d.left()\n",
    "    y1 = d.top()\n",
    "    x2 = d.right()\n",
    "    y2 = d.bottom()\n",
    "    text = \"%2.2f(%d)\" % (scores[i], idx[i])\n",
    "    \n",
    "    # 以方框標示偵測的人臉\n",
    "    cv2.rectangle(img, (x1, y1), (x2, y2), (0, 255, 0), 4, cv2.LINE_AA)\n",
    "    \n",
    "    # 標示分數                座標               字型         大小      顏色BGR    粗度   線條種類\n",
    "    cv2.putText(img, text, (x1, y1), cv2.FONT_HERSHEY_DUPLEX,0.7, (255, 255, 255), 1, cv2.LINE_AA)\n",
    "\n",
    "cv2.imshow(\"Face Detection\", img) \n",
    "\n",
    "'''\n",
    "綠框上面的數字\n",
    "左：是人臉的機率 是字越大越接近人\n",
    "右括弧：臉部的方向\n",
    "\n",
    "'''\n",
    "\n",
    "cv2.waitKey(0)\n",
    "cv2.destroyAllWindows()"
   ]
  },
  {
   "cell_type": "markdown",
   "metadata": {},
   "source": [
    "## 補捉的臉部 預測臉部 landmarks\n",
    "![image alt](./images/face_point.png)  \n",
    "- 下巴 Jaw Points = 0–16\n",
    "- 右眉毛 Right Brow Points = 17–21\n",
    "- 左眉毛 Left Brow Points = 22–26\n",
    "- 鼻子 Nose Points = 27–35\n",
    "- 右眼睛 Right Eye Points = 36–41\n",
    "- 左眼睛 Left Eye Points = 42–47\n",
    "- 嘴巴 Mouth Points = 48–60\n",
    "- 嘴唇 Lips Points = 61–67  \n",
    "\n",
    "shape_predictor:  \n",
    "https://github.com/italojs/facial-landmarks-recognition/blob/master/shape_predictor_68_face_landmarks.dat"
   ]
  },
  {
   "cell_type": "code",
   "execution_count": 5,
   "metadata": {},
   "outputs": [],
   "source": [
    "import cv2\n",
    "import numpy as np\n",
    "import dlib\n",
    "\n",
    "img = cv2.imread(\"./images/face.png\")\n",
    "gray = cv2.cvtColor(src=img, code=cv2.COLOR_BGR2GRAY) #轉成灰階\n",
    "\n",
    "# Dlib 的人臉偵測器\n",
    "detector = dlib.get_frontal_face_detector()\n",
    "\n",
    "# Load the predictor\n",
    "predictor = dlib.shape_predictor(\"shape_predictor_68_face_landmarks.dat\")\n",
    "\n",
    "# 用 detector去找臉部，取出所有偵測的結果\n",
    "faces = detector(gray)\n",
    "for face in faces:\n",
    "    x1 = face.left() \n",
    "    y1 = face.top() \n",
    "    x2 = face.right() \n",
    "    y2 = face.bottom() \n",
    "\n",
    "    # Create landmark object\n",
    "    landmarks = predictor(image=gray, box=face)\n",
    "\n",
    "    # 迴圈跑68個特徵點\n",
    "    for n in range(0, 68):\n",
    "        x = landmarks.part(n).x  #.part你要抓第幾個點\n",
    "        y = landmarks.part(n).y\n",
    "\n",
    "        # 畫點                  座標點        半徑           顏色          粗度\n",
    "        cv2.circle(img=img, center=(x, y), radius=3, color=(0, 255, 0), thickness=-1)\n",
    "\n",
    "\n",
    "cv2.imshow(winname=\"Face\", mat=img)\n",
    "cv2.waitKey(delay=0)\n",
    "cv2.destroyAllWindows()"
   ]
  },
  {
   "cell_type": "code",
   "execution_count": null,
   "metadata": {},
   "outputs": [],
   "source": []
  }
 ],
 "metadata": {
  "kernelspec": {
   "display_name": "Python 3",
   "language": "python",
   "name": "python3"
  },
  "language_info": {
   "codemirror_mode": {
    "name": "ipython",
    "version": 3
   },
   "file_extension": ".py",
   "mimetype": "text/x-python",
   "name": "python",
   "nbconvert_exporter": "python",
   "pygments_lexer": "ipython3",
   "version": "3.7.9"
  }
 },
 "nbformat": 4,
 "nbformat_minor": 4
}
