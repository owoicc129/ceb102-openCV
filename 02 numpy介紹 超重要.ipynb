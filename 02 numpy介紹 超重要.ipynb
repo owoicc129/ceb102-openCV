{
 "cells": [
  {
   "cell_type": "markdown",
   "metadata": {},
   "source": [
    "# Create Numpy Array"
   ]
  },
  {
   "cell_type": "code",
   "execution_count": 1,
   "metadata": {},
   "outputs": [
    {
     "name": "stdout",
     "output_type": "stream",
     "text": [
      "<class 'numpy.ndarray'>\n",
      "(3,)\n",
      "[1 2 3]\n",
      "<class 'numpy.ndarray'>\n",
      "(2, 2)\n",
      "[[1 2]\n",
      " [3 4]]\n",
      "2\n",
      "4\n"
     ]
    }
   ],
   "source": [
    "import numpy as np\n",
    "\n",
    "np_array_1d = np.array([1,2,3]) \n",
    "print(type(np_array_1d)) # 看type\n",
    "print(np_array_1d.shape)\n",
    "print(np_array_1d)       # 看內容\n",
    "\n",
    "np_array_2d = np.array([[1, 2], [3, 4]]) \n",
    "print(type(np_array_2d))\n",
    "print(np_array_2d.shape) # .shape 看是幾乘幾\n",
    "print(np_array_2d)       # 看內容\n",
    "print(np_array_2d.ndim)  # .ndim 看維度\n",
    "print(np_array_2d.size)  # .size 看有幾個元素"
   ]
  },
  {
   "cell_type": "code",
   "execution_count": 2,
   "metadata": {},
   "outputs": [
    {
     "name": "stdout",
     "output_type": "stream",
     "text": [
      "int32\n",
      "float64\n",
      "int64\n"
     ]
    }
   ],
   "source": [
    "import numpy as np\n",
    "\n",
    "x = np.array([1, 2])   # datatype =dtype 預設型別\n",
    "print(x.dtype)        \n",
    "\n",
    "x = np.array([1.0, 2.0])   \n",
    "print(x.dtype)          \n",
    "\n",
    "x = np.array([1, 2], dtype=np.int64)   # 指定特定型態\n",
    "print(x.dtype)           "
   ]
  },
  {
   "cell_type": "code",
   "execution_count": 19,
   "metadata": {},
   "outputs": [
    {
     "name": "stdout",
     "output_type": "stream",
     "text": [
      "[[[0. 0.]\n",
      "  [0. 0.]\n",
      "  [0. 0.]\n",
      "  [0. 0.]]\n",
      "\n",
      " [[0. 0.]\n",
      "  [0. 0.]\n",
      "  [0. 0.]\n",
      "  [0. 0.]]\n",
      "\n",
      " [[0. 0.]\n",
      "  [0. 0.]\n",
      "  [0. 0.]\n",
      "  [0. 0.]]]\n",
      "[[1. 1. 1.]\n",
      " [1. 1. 1.]]\n",
      "[[5 5]\n",
      " [5 5]\n",
      " [5 5]]\n",
      "[[1. 0.]\n",
      " [0. 1.]]\n",
      "[[0.42973933 0.82376577]\n",
      " [0.00105144 0.69152493]]\n",
      "[0 1 2 3]\n",
      "[0.         1.57079633 3.14159265 4.71238898 6.28318531]\n"
     ]
    }
   ],
   "source": [
    "import numpy as np\n",
    "np_array_zeros = np.zeros([3,4,2]) # .zeros 內容為0 ，3個4*2\n",
    "np_array_ones = np.ones([2,3]) # .ones 內容為1 的2*3\n",
    "np_array_full = np.full([3,2], 5) #3*2 裡面都是5\n",
    "np_array_eye = np.eye(2)   #2*2 对角线的地方为1，其余的地方为0\n",
    "np_random = np.random.random((2,2)) #2*2 裡面數字隨機\n",
    "\n",
    "np_arange = np.arange(4) # 0~4 4不算  .arange給一個範圍 變成array\n",
    "\n",
    "#  .linspace畫圖很常用!!! \n",
    "np_linspace = np.linspace(0, 2*np.pi, 5) #0~2pi 之間產生5個均分點\n",
    "\n",
    "print(np_array_zeros)\n",
    "print(np_array_ones)\n",
    "print(np_array_full)\n",
    "print(np_array_eye)\n",
    "print(np_random)\n",
    "print(np_arange)\n",
    "print(np_linspace)\n",
    "\n",
    "#arr2[1,1] = np.nan  # not a number\n",
    "#arr2[1,2] = np.inf  # infinite"
   ]
  },
  {
   "cell_type": "markdown",
   "metadata": {
    "collapsed": true
   },
   "source": [
    "# Basic Arithmetic  /əˈrɪθ.mə.tɪk/  算術"
   ]
  },
  {
   "cell_type": "code",
   "execution_count": 2,
   "metadata": {},
   "outputs": [
    {
     "name": "stdout",
     "output_type": "stream",
     "text": [
      "[[ 6.  8.]\n",
      " [10. 12.]]\n",
      "[[ 6.  8.]\n",
      " [10. 12.]]\n",
      "==============\n",
      "[[-4. -4.]\n",
      " [-4. -4.]]\n",
      "[[-4. -4.]\n",
      " [-4. -4.]]\n",
      "==============\n",
      "[[ 5. 12.]\n",
      " [21. 32.]]\n",
      "[[ 5. 12.]\n",
      " [21. 32.]]\n",
      "==============\n",
      "[[0.2        0.33333333]\n",
      " [0.42857143 0.5       ]]\n",
      "[[0.2        0.33333333]\n",
      " [0.42857143 0.5       ]]\n",
      "==============\n",
      "[[1.         1.41421356]\n",
      " [1.73205081 2.        ]]\n"
     ]
    }
   ],
   "source": [
    "import numpy as np\n",
    "\n",
    "x = np.array([[1,2],[3,4]], dtype=np.float64)\n",
    "y = np.array([[5,6],[7,8]], dtype=np.float64)\n",
    "\n",
    "# Elementwise sum  # Elementwise是按位置 \n",
    "#示範 兩種寫法都一樣\n",
    "print(x + y)\n",
    "print(np.add(x, y))\n",
    "print('==============')\n",
    "\n",
    "# Elementwise difference\n",
    "print(x - y)\n",
    "print(np.subtract(x, y))\n",
    "print('==============')\n",
    "\n",
    "# Elementwise product\n",
    "print(x * y)\n",
    "print(np.multiply(x, y))\n",
    "print('==============')\n",
    "\n",
    "# Elementwise division\n",
    "print(x / y)\n",
    "print(np.divide(x, y))\n",
    "print('==============')\n",
    "\n",
    "# Elementwise square root   對X開更號\n",
    "print(np.sqrt(x))\n"
   ]
  },
  {
   "cell_type": "markdown",
   "metadata": {},
   "source": [
    "# Matrix Algebra  /ˈmeɪ.trɪks /ˈæl.dʒə.brə/ 矩陣代數"
   ]
  },
  {
   "cell_type": "code",
   "execution_count": 3,
   "metadata": {},
   "outputs": [
    {
     "name": "stdout",
     "output_type": "stream",
     "text": [
      "219\n",
      "219\n",
      "==============\n",
      "[29 67]\n",
      "[29 67]\n",
      "==============\n",
      "[[19 22]\n",
      " [43 50]]\n",
      "[[19 22]\n",
      " [43 50]]\n",
      "==============\n",
      "[[1 2]\n",
      " [3 4]]\n",
      "[[1 3]\n",
      " [2 4]]\n",
      "==============\n",
      "[[1 2]\n",
      " [3 4]]\n",
      "[[-2.   1. ]\n",
      " [ 1.5 -0.5]]\n",
      "==============\n",
      "[[1 2]\n",
      " [3 4]]\n",
      "-2.0000000000000004\n",
      "==============\n",
      "[[-0.40455358 -0.9145143 ]\n",
      " [-0.9145143   0.40455358]]\n",
      "[5.4649857  0.36596619]\n",
      "[[-0.57604844 -0.81741556]\n",
      " [ 0.81741556 -0.57604844]]\n"
     ]
    }
   ],
   "source": [
    "import numpy as np\n",
    "\n",
    "x = np.array([[1,2],[3,4]])\n",
    "y = np.array([[5,6],[7,8]])\n",
    "\n",
    "v = np.array([9,10])\n",
    "w = np.array([11, 12])\n",
    "\n",
    "# Inner product of vectors [內積] 同位置相乘+同位置相乘\n",
    "#示範 兩寫法都一樣\n",
    "print(v.dot(w)) \n",
    "print(np.dot(v, w))\n",
    "print('==============')\n",
    "\n",
    "# Matrix / vector product [矩陣.向量相乘]\n",
    "print(x.dot(v))\n",
    "print(np.matmul(x, v))  #.matmul 矩陣相乘 matrix multiplication縮寫\n",
    "print('==============')\n",
    "\n",
    "# Matrix / matrix product [矩陣相乘]\n",
    "print(x.dot(y))\n",
    "print(np.dot(x, y))\n",
    "print('==============')\n",
    "\n",
    "# Matrix transpose  [矩陣反轉]\n",
    "print(x)\n",
    "print(x.T)\n",
    "print('==============')\n",
    "\n",
    "# Matrix inverse [矩陣求逆]\n",
    "print(x)\n",
    "print(np.linalg.inv(x)) #線性代數縮寫\n",
    "print('==============')\n",
    "\n",
    "# Matrix determinant [矩陣求行列式]\n",
    "print(x)\n",
    "print(np.linalg.det(x))\n",
    "print('==============')\n",
    "\n",
    "# SVD [奇异值分解（singular Value Decomposition）] 假如有一个矩阵A，对它进行奇异值分解，可以得到三个矩阵\n",
    "U, S, V = np.linalg.svd(x)\n",
    "print(U)\n",
    "print(S) # s 是對角矩陣\n",
    "print(V)\n"
   ]
  },
  {
   "cell_type": "markdown",
   "metadata": {},
   "source": [
    "# Comparison 相同位置逐個比較是否符合條件"
   ]
  },
  {
   "cell_type": "code",
   "execution_count": 33,
   "metadata": {},
   "outputs": [
    {
     "name": "stdout",
     "output_type": "stream",
     "text": [
      "[[ True False  True]\n",
      " [False  True False]]\n",
      "[[ True False  True]\n",
      " [False  True  True]]\n"
     ]
    }
   ],
   "source": [
    "a = np.array([[1, 1, 2], [2, 3, 5]])\n",
    "b = np.array([[1, 3, 2], [3, 3, 1]])\n",
    "\n",
    "print(a == b)\n",
    "print(a >= b)"
   ]
  },
  {
   "cell_type": "markdown",
   "metadata": {},
   "source": [
    "# Sorting 排序 "
   ]
  },
  {
   "cell_type": "code",
   "execution_count": 9,
   "metadata": {},
   "outputs": [
    {
     "name": "stdout",
     "output_type": "stream",
     "text": [
      "[[1 1 2]\n",
      " [7 5 3]]\n",
      "[[1 2 5]\n",
      " [1 3 7]]\n",
      "======\n",
      "[[1 1 2]\n",
      " [7 5 3]]\n"
     ]
    }
   ],
   "source": [
    "a = np.array([[1, 5, 2], [7, 1, 3]])\n",
    "\n",
    "print(np.sort(a, axis=0)) #排序 由小到大 按列\n",
    "print(np.sort(a, axis=1)) #排序 由小到大 按行\n",
    "print('======')\n",
    "\n",
    "b = np.array([[1, 5, 2], [7, 1, 3]])\n",
    "b.sort(axis=0)\n",
    "print(b)"
   ]
  },
  {
   "cell_type": "markdown",
   "metadata": {},
   "source": [
    "# Statistical Computations  統計計算"
   ]
  },
  {
   "cell_type": "code",
   "execution_count": 5,
   "metadata": {},
   "outputs": [
    {
     "name": "stdout",
     "output_type": "stream",
     "text": [
      "Mean 平均值: 2.5\n",
      "Max 最大值: 4.0\n",
      "Min 最小值: 1.0\n",
      "Std 標準差: 1.118033988749895\n",
      "Var 變異數: 1.25\n",
      "Sum 總和: 10.0\n",
      "欄的方向 sum: [4. 6.]\n",
      "列的方向 sum: [3. 7.]\n",
      "欄的方向 minimum: [1. 2.]\n",
      "列的方向 minimum: [1. 3.]\n",
      "Cumulative sum: [ 1.  3.  6. 10.]\n"
     ]
    }
   ],
   "source": [
    "x = np.array([[1,2],[3,4]], dtype=np.float64)\n",
    "\n",
    "print(\"Mean 平均值: {}\".format(x.mean()))\n",
    "print(\"Max 最大值: {}\".format(x.max()))\n",
    "print(\"Min 最小值: {}\".format(x.min()))\n",
    "print(\"Std 標準差: {}\".format(x.std()))\n",
    "print(\"Var 變異數: {}\".format(x.var()))\n",
    "print(\"Sum 總和: {}\".format(x.sum()))\n",
    "\n",
    "# Row wise and column wise min\n",
    "print(\"欄的方向 sum: {}\".format(np.sum(x, axis=0)))\n",
    "print(\"列的方向 sum: {}\".format(np.sum(x, axis=1)))\n",
    "print(\"欄的方向 minimum: {}\".format(np.min(x, axis=0)))\n",
    "print(\"列的方向 minimum: {}\".format(np.min(x, axis=1)))\n",
    "\n",
    "#累加總合 1，1+2，1+2+3，1+2+3+4\n",
    "print(\"Cumulative sum: {}\".format(np.cumsum(x))) "
   ]
  },
  {
   "cell_type": "code",
   "execution_count": 6,
   "metadata": {},
   "outputs": [
    {
     "name": "stdout",
     "output_type": "stream",
     "text": [
      "[[1. 4.]\n",
      " [2. 3.]]\n",
      "argmax(axis=0): [1 0]\n",
      "argmax(axis=1): [1 1]\n"
     ]
    }
   ],
   "source": [
    "x = np.array([[1,4],[2,3]], dtype=np.float64)\n",
    "print(x)\n",
    "\n",
    "# argmax回傳最大數的index，用列比\n",
    "# 1比2 2大所以回傳其索引\n",
    "# 2比4 4大所以回傳其索引\n",
    "print(\"argmax(axis=0): {}\".format(np.argmax(x, axis=0)))\n",
    "\n",
    "# argmax回傳最大數的index，用行比\n",
    "print(\"argmax(axis=1): {}\".format(np.argmax(x, axis=1)))\n"
   ]
  },
  {
   "cell_type": "markdown",
   "metadata": {},
   "source": [
    "#  Indexing & Slicing 用索引選取範圍 切割"
   ]
  },
  {
   "cell_type": "code",
   "execution_count": 7,
   "metadata": {},
   "outputs": [
    {
     "name": "stdout",
     "output_type": "stream",
     "text": [
      "[[2 3]\n",
      " [6 7]]\n",
      "2\n",
      "77\n"
     ]
    }
   ],
   "source": [
    "import numpy as np\n",
    "\n",
    "# Create the following rank 2 array with shape (3, 4)\n",
    "# [[ 1  2  3  4]\n",
    "#  [ 5  6  7  8]\n",
    "#  [ 9 10 11 12]]\n",
    "\n",
    "#以下兩寫法 都是一樣的\n",
    "a = np.array([[1,2,3,4], [5,6,7,8], [9,10,11,12]])\n",
    "a = np.arange(1, 13).reshape(3,4)\n",
    "\n",
    "\n",
    "#現在想切出 這一塊\n",
    "# [[2 3]\n",
    "#  [6 7]]\n",
    "print(a[:2, 1:3]) #0~2 2不算\n",
    "\n",
    "#可對索引位置改數字\n",
    "print(a[0, 1])   #索引位置 a的 [0,1]\n",
    "a[0, 1] = 77    \n",
    "print(a[0, 1])   "
   ]
  },
  {
   "cell_type": "code",
   "execution_count": 10,
   "metadata": {},
   "outputs": [
    {
     "name": "stdout",
     "output_type": "stream",
     "text": [
      "[5 6 7 8] (4,)\n",
      "[[5 6 7 8]] (1, 4)\n",
      "=====================\n",
      "[ 2  6 10] (3,)\n",
      "[[ 2]\n",
      " [ 6]\n",
      " [10]] (3, 1)\n"
     ]
    }
   ],
   "source": [
    "import numpy as np\n",
    "\n",
    "# Create the following rank 2 array with shape (3, 4)\n",
    "# [[ 1  2  3  4]\n",
    "#  [ 5  6  7  8]\n",
    "#  [ 9 10 11 12]]\n",
    "a = np.array([[1,2,3,4], [5,6,7,8], [9,10,11,12]])\n",
    "\n",
    "r1 = a[1, :]    # 維度只有一\n",
    "r2 = a[1:2, :]  # 兩邊都有冒號 維度二\n",
    "print(r1, r1.shape) \n",
    "print(r2, r2.shape)  \n",
    "\n",
    "print('=====================')\n",
    "\n",
    "c1 = a[:, 1]     # 維度只有一\n",
    "c2 = a[:, 1:2]   # 兩邊都有冒號 維度二\n",
    "print(c1, c1.shape)  \n",
    "print(c2, c2.shape)   "
   ]
  },
  {
   "cell_type": "code",
   "execution_count": 12,
   "metadata": {},
   "outputs": [
    {
     "name": "stdout",
     "output_type": "stream",
     "text": [
      "[0 1 2 3 4 5 6 7 8 9]\n",
      "[2 4 6]\n",
      "=============\n",
      "[[1 2 3]\n",
      " [3 4 5]\n",
      " [4 5 6]]\n",
      "Now we will slice the array from the index a[1:]\n",
      "[[3 4 5]\n",
      " [4 5 6]]\n",
      "The items in the second column are:\n",
      "[2 4 5]\n",
      "The items in the second row are:\n",
      "[3 4 5]\n",
      "The items column 1 onwards are:\n",
      "[[2 3]\n",
      " [4 5]\n",
      " [5 6]]\n"
     ]
    }
   ],
   "source": [
    "import numpy as np \n",
    "a = np.arange(10) \n",
    "print(a)\n",
    "b = a[2:7:2]  #2~7 7不算 每間隔2個\n",
    "print(b)\n",
    "print('=============')\n",
    "\n",
    "a = np.array([[1,2,3],[3,4,5],[4,5,6]]) \n",
    "print(a)  \n",
    "\n",
    "# slice items starting from index\n",
    "print('Now we will slice the array from the index a[1:]') \n",
    "print(a[1:])\n",
    "\n",
    "# this returns array of items in the second column \n",
    "print('The items in the second column are:')  \n",
    "print(a[:,1]) \n",
    "\n",
    "# Now we will slice all items from the second row \n",
    "print('The items in the second row are:') \n",
    "print(a[1,:]) \n",
    "\n",
    "# Now we will slice all items from column 1 onwards \n",
    "print('The items column 1 onwards are:') \n",
    "print(a[:,1:])"
   ]
  },
  {
   "cell_type": "markdown",
   "metadata": {},
   "source": [
    "# Boolean index 可用索引位置判斷是否"
   ]
  },
  {
   "cell_type": "code",
   "execution_count": 13,
   "metadata": {},
   "outputs": [
    {
     "name": "stdout",
     "output_type": "stream",
     "text": [
      "[[False False]\n",
      " [ True  True]\n",
      " [ True  True]]\n",
      "[3 4 5 6]\n",
      "[3 4 5 6]\n"
     ]
    }
   ],
   "source": [
    "import numpy as np\n",
    "\n",
    "a = np.array([[1,2], [3, 4], [5, 6]])\n",
    "\n",
    "bool_idx = (a > 2)   #檢查index是否有大於2\n",
    "print(bool_idx)      \n",
    "\n",
    "#有以下兩種寫法\n",
    "print(a[bool_idx])  # Prints \"[3 4 5 6]\" 有True的地方都會 留下\n",
    "print(a[a > 2])     # Prints \"[3 4 5 6]\"\n"
   ]
  },
  {
   "cell_type": "markdown",
   "metadata": {
    "collapsed": true
   },
   "source": [
    "# Add/Remove Elements"
   ]
  },
  {
   "cell_type": "code",
   "execution_count": 43,
   "metadata": {},
   "outputs": [
    {
     "name": "stdout",
     "output_type": "stream",
     "text": [
      "[ 0  1  2 10]\n",
      "[ 0  1  2 10  3  4  5]\n"
     ]
    }
   ],
   "source": [
    "a = np.array([0, 1, 2])\n",
    "b = np.array([3, 4, 5])\n",
    "\n",
    "a = np.append(a, 10) # 誰要加 加多少\n",
    "print(a)\n",
    "\n",
    "a = np.append(a, b)\n",
    "print(a)\n",
    "\n"
   ]
  },
  {
   "cell_type": "markdown",
   "metadata": {},
   "source": [
    "#   List/Tuple 轉換型別成 Numpy Array"
   ]
  },
  {
   "cell_type": "code",
   "execution_count": 14,
   "metadata": {},
   "outputs": [
    {
     "name": "stdout",
     "output_type": "stream",
     "text": [
      "[1 2 3]\n",
      "[1 2 3]\n",
      "[1, 2, 3]\n"
     ]
    }
   ],
   "source": [
    "my_list = [1,2,3]\n",
    "my_tuple = (1,2,3) \n",
    "numpy_a = np.asarray(my_tuple)  # .asarray 轉型別  把值組轉成array\n",
    "numpy_b = np.asarray(my_list)   # 也可把List轉成array\n",
    "\n",
    "print(numpy_a)\n",
    "print(numpy_b)\n",
    "\n",
    "list_a = list(numpy_a)\n",
    "print(list_a)"
   ]
  },
  {
   "cell_type": "markdown",
   "metadata": {},
   "source": [
    "#  Numpy array 跟 Pandas dataframe互轉"
   ]
  },
  {
   "cell_type": "code",
   "execution_count": 17,
   "metadata": {},
   "outputs": [
    {
     "name": "stdout",
     "output_type": "stream",
     "text": [
      "[['A' 1990 5988 'aa']\n",
      " ['B' 1991 5989 'bb']\n",
      " ['C' 1992 5990 'cc']\n",
      " ['D' 1993 5991 'dd']]\n",
      "=====================\n",
      "   0     1     2   3\n",
      "0  A  1990  5988  aa\n",
      "1  B  1991  5989  bb\n",
      "2  C  1992  5990  cc\n",
      "3  D  1993  5991  dd\n"
     ]
    }
   ],
   "source": [
    "import pandas as pd\n",
    "\n",
    "# load csv file\n",
    "df = pd.read_csv('na_demo.csv')\n",
    "\n",
    "numpy_array = np.array(df) #把dataframe 轉成array\n",
    "print(numpy_array)\n",
    "\n",
    "print('=====================')\n",
    "df_from_numpy = pd.DataFrame(numpy_array) #把 array轉成dataframe\n",
    "print(df_from_numpy)"
   ]
  },
  {
   "cell_type": "markdown",
   "metadata": {},
   "source": [
    "# Broadcasting   把形狀變一樣\n",
    "ref: https://jakevdp.github.io/PythonDataScienceHandbook/02.05-computation-on-arrays-broadcasting.html"
   ]
  },
  {
   "cell_type": "code",
   "execution_count": 25,
   "metadata": {
    "scrolled": true
   },
   "outputs": [
    {
     "name": "stdout",
     "output_type": "stream",
     "text": [
      "[3 4 5]\n",
      "[[1. 2. 3.]\n",
      " [1. 2. 3.]\n",
      " [1. 2. 3.]]\n"
     ]
    }
   ],
   "source": [
    "import numpy as np\n",
    "a = np.array([0, 1, 2])\n",
    "b = a + 3  #會把3 變成[3,3,3]去相加\n",
    "print(b)\n",
    "\n",
    "M = np.ones((3, 3))  #3*3 內容都1\n",
    "print(M + a)\n"
   ]
  },
  {
   "cell_type": "markdown",
   "metadata": {},
   "source": [
    "#### np.newaxis= None 用來增加維度"
   ]
  },
  {
   "cell_type": "code",
   "execution_count": 18,
   "metadata": {},
   "outputs": [
    {
     "name": "stdout",
     "output_type": "stream",
     "text": [
      "[0 1 2]\n",
      "======\n",
      "[[0]\n",
      " [1]\n",
      " [2]]\n",
      "======\n",
      "[[0]\n",
      " [1]\n",
      " [2]]\n",
      "======\n",
      "[[0 1 2]\n",
      " [1 2 3]\n",
      " [2 3 4]]\n"
     ]
    }
   ],
   "source": [
    "a = np.arange(3) \n",
    "b = np.arange(3)[:, np.newaxis]  # np.newaxis= None 用來增加維度\n",
    "c = np.arange(3)[:, None] #跟上面寫法相同\n",
    "\n",
    "print(a)\n",
    "print(\"======\")\n",
    "print(b)\n",
    "print(\"======\")\n",
    "print(c)\n",
    "print(\"======\")\n",
    "print(a+b)"
   ]
  },
  {
   "cell_type": "code",
   "execution_count": 5,
   "metadata": {},
   "outputs": [
    {
     "name": "stdout",
     "output_type": "stream",
     "text": [
      "(3,)\n",
      "(3, 1)\n"
     ]
    }
   ],
   "source": [
    "a = np.arange(3) # [0,1,2] 一維\n",
    "print(a.shape)\n",
    "b = np.arange(3)[:, np.newaxis] #二維\n",
    "print(b.shape)"
   ]
  },
  {
   "cell_type": "markdown",
   "metadata": {},
   "source": [
    "# Reshape 朔型 & Flatten 變平"
   ]
  },
  {
   "cell_type": "code",
   "execution_count": 29,
   "metadata": {},
   "outputs": [
    {
     "name": "stdout",
     "output_type": "stream",
     "text": [
      "[ 1  2  3  4  5  6  7  8  9 10 11 12]\n",
      "=========\n",
      "[[ 1  2  3  4  5  6]\n",
      " [ 7  8  9 10 11 12]]\n",
      "=========\n",
      "[[[ 1  2  3]\n",
      "  [ 4  5  6]]\n",
      "\n",
      " [[ 7  8  9]\n",
      "  [10 11 12]]]\n",
      "=========\n",
      "[[[ 1  2]\n",
      "  [ 3  4]\n",
      "  [ 5  6]]\n",
      "\n",
      " [[ 7  8]\n",
      "  [ 9 10]\n",
      "  [11 12]]]\n"
     ]
    }
   ],
   "source": [
    "import numpy as np\n",
    "a=np.array([1,2,3,4,5,6,7,8,9,10,11,12])  \n",
    "b=np.reshape(a,(2,-1))   # -1 是給python自己算 把a reshape成2*?\n",
    "c=np.reshape(a,(2,2,-1))  # 2個 2*3\n",
    "d=np.reshape(a,(2,3,-1))\n",
    "print(a)\n",
    "print('=========')\n",
    "print(b)\n",
    "print('=========')\n",
    "print(c)\n",
    "print('=========')\n",
    "print(d)"
   ]
  },
  {
   "cell_type": "code",
   "execution_count": 31,
   "metadata": {},
   "outputs": [
    {
     "name": "stdout",
     "output_type": "stream",
     "text": [
      "[1 2 3 4 5 6]\n"
     ]
    }
   ],
   "source": [
    "a=np.array([[1,2],[3,4],[5,6]])  #原本是三維\n",
    "print(a.flatten())"
   ]
  },
  {
   "cell_type": "markdown",
   "metadata": {},
   "source": [
    "# Stack  疊堆\n",
    "ref: https://blog.csdn.net/qq_17550379/article/details/78934529"
   ]
  },
  {
   "cell_type": "code",
   "execution_count": 23,
   "metadata": {},
   "outputs": [
    {
     "name": "stdout",
     "output_type": "stream",
     "text": [
      "a shape (3,) / b shape (3,)\n",
      "[[1 2 3]\n",
      " [2 3 4]]\n",
      "(2, 3)\n",
      "======\n",
      "[[1 2]\n",
      " [2 3]\n",
      " [3 4]]\n",
      "(3, 2)\n"
     ]
    }
   ],
   "source": [
    "import numpy as np\n",
    "a = np.array([1, 2, 3])\n",
    "b = np.array([2, 3, 4])\n",
    "\n",
    "print('a shape {} / b shape {}'.format(a.shape, b.shape))\n",
    "\n",
    "print(np.stack((a, b), axis=0))  #向下的方向 去疊\n",
    "print(np.stack((a, b), axis=0).shape)\n",
    "print(\"======\")\n",
    "print(np.stack((a, b), axis=1)) #向右的方向 去疊\n",
    "print(np.stack((a, b), axis=1).shape)"
   ]
  },
  {
   "cell_type": "markdown",
   "metadata": {},
   "source": [
    "# Copy & Deep Copy"
   ]
  },
  {
   "cell_type": "code",
   "execution_count": 24,
   "metadata": {},
   "outputs": [
    {
     "name": "stdout",
     "output_type": "stream",
     "text": [
      "[ 0 22 33  3]\n",
      "[ 0 22 33  3]\n",
      "[ 0 22 33  3]\n",
      "True\n"
     ]
    }
   ],
   "source": [
    "import numpy as np\n",
    "\n",
    "a = np.arange(4) #[0,1,2,3]\n",
    "b = a\n",
    "c = a\n",
    "d = b\n",
    "\n",
    "d[1:3] = [22, 33]   # array([0, 22, 33,  3])\n",
    "print(a)          \n",
    "print(b)           \n",
    "print(c)          \n",
    "print(b is a)"
   ]
  },
  {
   "cell_type": "code",
   "execution_count": 50,
   "metadata": {},
   "outputs": [
    {
     "name": "stdout",
     "output_type": "stream",
     "text": [
      "[ 0 22 33  3]\n",
      "[ 0 22 33 44]\n",
      "[ 0 22 33  3]\n"
     ]
    }
   ],
   "source": [
    "b = a.copy()    # deep copy ([0, 22, 33,  3])\n",
    "print(b)        \n",
    "a[3] = 44\n",
    "print(a)        # array([0, 22, 33, 44])\n",
    "print(b)        # array([11, 22, 33,  3])"
   ]
  },
  {
   "cell_type": "code",
   "execution_count": null,
   "metadata": {
    "collapsed": true
   },
   "outputs": [],
   "source": []
  }
 ],
 "metadata": {
  "kernelspec": {
   "display_name": "Python 3",
   "language": "python",
   "name": "python3"
  },
  "language_info": {
   "codemirror_mode": {
    "name": "ipython",
    "version": 3
   },
   "file_extension": ".py",
   "mimetype": "text/x-python",
   "name": "python",
   "nbconvert_exporter": "python",
   "pygments_lexer": "ipython3",
   "version": "3.7.9"
  }
 },
 "nbformat": 4,
 "nbformat_minor": 2
}
