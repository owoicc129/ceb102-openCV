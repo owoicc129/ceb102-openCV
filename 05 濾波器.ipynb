{
 "cells": [
  {
   "cell_type": "markdown",
   "metadata": {},
   "source": [
    "# Filtering  濾波器 以下4種"
   ]
  },
  {
   "cell_type": "markdown",
   "metadata": {},
   "source": [
    "### Blur  平均"
   ]
  },
  {
   "cell_type": "code",
   "execution_count": 5,
   "metadata": {},
   "outputs": [],
   "source": [
    "import cv2\n",
    "\n",
    "img =cv2.imread(\"images/lenaNoise.png\") #一張有雜質的照片\n",
    "\n",
    "result =cv2.blur(img,(5,5))  # .blur filter大小為5*5\n",
    "\n",
    "cv2.imshow(\"original\", img)\n",
    "cv2.imshow(\"result\",result)\n",
    "cv2.waitKey(0)\n",
    "cv2.destroyAllWindows()"
   ]
  },
  {
   "cell_type": "code",
   "execution_count": 2,
   "metadata": {},
   "outputs": [],
   "source": [
    "import cv2\n",
    "o=cv2.imread(\"images/lenaNoise.png\")\n",
    "r5=cv2.blur(o,(5,5))   # 內核大小為5*5    \n",
    "r30=cv2.blur(o,(30,30))    # 內核大小為30*30       \n",
    "cv2.imshow(\"original\",o)\n",
    "cv2.imshow(\"result5\",r5)\n",
    "cv2.imshow(\"result30\",r30)\n",
    "cv2.waitKey(0)\n",
    "cv2.destroyAllWindows()"
   ]
  },
  {
   "cell_type": "markdown",
   "metadata": {},
   "source": [
    "### Gaussian Filter 高斯"
   ]
  },
  {
   "cell_type": "code",
   "execution_count": 3,
   "metadata": {},
   "outputs": [],
   "source": [
    "import cv2\n",
    "o=cv2.imread(\"images/lenaNoise.png\")\n",
    "r=cv2.GaussianBlur(o,(5,5),0,0) # 5*5的濾波器\n",
    "cv2.imshow(\"original\",o)\n",
    "cv2.imshow(\"result\",r)\n",
    "\n",
    "cv2.waitKey(0)\n",
    "cv2.destroyAllWindows()"
   ]
  },
  {
   "cell_type": "markdown",
   "metadata": {},
   "source": [
    "### Median Filter  中值  (效果不錯)"
   ]
  },
  {
   "cell_type": "code",
   "execution_count": 8,
   "metadata": {},
   "outputs": [],
   "source": [
    "import cv2\n",
    "o=cv2.imread(\"images/lenaNoise.png\")\n",
    "\n",
    "r=cv2.medianBlur(o,3) #3*3的框\n",
    "\n",
    "cv2.imshow(\"original\",o)\n",
    "cv2.imshow(\"result\",r)\n",
    "cv2.waitKey()\n",
    "cv2.destroyAllWindows()"
   ]
  },
  {
   "cell_type": "markdown",
   "metadata": {},
   "source": [
    "### Bilateral Filter  雙向 (邊緣不模糊)"
   ]
  },
  {
   "cell_type": "code",
   "execution_count": 7,
   "metadata": {},
   "outputs": [],
   "source": [
    "import cv2\n",
    "o=cv2.imread(\"images/lenaNoise.png\")\n",
    "r=cv2.bilateralFilter(o,25,100,100)\n",
    "cv2.imshow(\"original\",o)\n",
    "cv2.imshow(\"result\",r)\n",
    "cv2.waitKey()\n",
    "cv2.destroyAllWindows()"
   ]
  },
  {
   "cell_type": "code",
   "execution_count": 6,
   "metadata": {},
   "outputs": [],
   "source": [
    "import cv2\n",
    "o=cv2.imread(\"images/bilTest.bmp\")\n",
    "\n",
    "g=r=cv2.GaussianBlur(o,(55,55),0,0) #高斯\n",
    "b=cv2.bilateralFilter(o,55,100,100) #雙向\n",
    "\n",
    "cv2.imshow(\"original\",o)\n",
    "cv2.imshow(\"Gaussian\",g)\n",
    "cv2.imshow(\"bilateral\",b)\n",
    "cv2.waitKey(0)\n",
    "cv2.destroyAllWindows()"
   ]
  },
  {
   "cell_type": "markdown",
   "metadata": {},
   "source": [
    "## Define other Filter   自訂義濾波器"
   ]
  },
  {
   "cell_type": "code",
   "execution_count": 11,
   "metadata": {},
   "outputs": [],
   "source": [
    "import cv2\n",
    "import numpy as np\n",
    "\n",
    "o=cv2.imread(\"images/lenaNoise.png\")\n",
    "kernel = np.ones((9,9),np.float32)/81  # 平均濾波器  # .ones 9*9 內容都是1\n",
    "\n",
    "r = cv2.filter2D(o,-1,kernel)\n",
    "cv2.imshow(\"original\",o)\n",
    "cv2.imshow(\"average\",r)\n",
    "cv2.waitKey()\n",
    "cv2.destroyAllWindows()"
   ]
  },
  {
   "cell_type": "code",
   "execution_count": null,
   "metadata": {},
   "outputs": [],
   "source": []
  }
 ],
 "metadata": {
  "kernelspec": {
   "display_name": "Python 3",
   "language": "python",
   "name": "python3"
  },
  "language_info": {
   "codemirror_mode": {
    "name": "ipython",
    "version": 3
   },
   "file_extension": ".py",
   "mimetype": "text/x-python",
   "name": "python",
   "nbconvert_exporter": "python",
   "pygments_lexer": "ipython3",
   "version": "3.7.9"
  }
 },
 "nbformat": 4,
 "nbformat_minor": 2
}
