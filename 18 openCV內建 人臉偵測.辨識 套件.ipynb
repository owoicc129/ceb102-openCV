{
 "cells": [
  {
   "cell_type": "markdown",
   "metadata": {},
   "source": [
    "# HaarCascade  人臉偵測 (只是把人臉框出來)\n",
    "xml download: https://github.com/opencv/opencv/tree/master/data/haarcascades  \n",
    "more haar example: https://www.bogotobogo.com/python/OpenCV_Python/python_opencv3_Image_Object_Detection_Face_Detection_Haar_Cascade_Classifiers.php"
   ]
  },
  {
   "cell_type": "code",
   "execution_count": 3,
   "metadata": {},
   "outputs": [
    {
     "name": "stdout",
     "output_type": "stream",
     "text": [
      "[[ 36  77  61  61]\n",
      " [289  12  77  77]\n",
      " [566  65  62  62]\n",
      " [444  63  68  68]\n",
      " [129  60  61  61]]\n",
      "发现5个人脸!\n"
     ]
    }
   ],
   "source": [
    "import cv2\n",
    "\n",
    "image = cv2.imread('./images/dface3.jpg')\n",
    "gray = cv2.cvtColor(image,cv2.COLOR_BGR2GRAY)\n",
    "\n",
    "# 取得xml文件,加載人臉檢視器\n",
    "faceCascade = cv2.CascadeClassifier('haarcascade_frontalface_default.xml')\n",
    "\n",
    "\n",
    "# 调用函数detectMultiScale\n",
    "faces = faceCascade.detectMultiScale(\n",
    "    gray,\n",
    "    scaleFactor = 1.15,\n",
    "    minNeighbors = 5,\n",
    "    minSize = (5,5)\n",
    ")\n",
    "print(faces) #(x,y,w寬,h高)\n",
    "\n",
    "#打印输出测试结果\n",
    "print(\"发现{}个人脸!\".format(len(faces)))\n",
    "\n",
    "#逐个标记人脸\n",
    "for(x,y,w,h) in faces:\n",
    "    \n",
    "    #畫框框                   \n",
    "    cv2.rectangle(image,(x,y),(x+w,y+w),(0,255,0),2) \n",
    "    \n",
    "    #畫圓圈                       座標點                半徑      顏色  粗度\n",
    "#     cv2.circle(image,(int((x+x+w)/2),int((y+y+h)/2)),int(w/2),(0,255,0),2)\n",
    "\n",
    "\n",
    "cv2.imshow(\"dect\",image)\n",
    "cv2.imwrite(\"re.jpg\",image) #存檔\n",
    "\n",
    "cv2.waitKey(0)\n",
    "cv2.destroyAllWindows()"
   ]
  },
  {
   "cell_type": "markdown",
   "metadata": {},
   "source": [
    "# LBPH 人臉辨識(辨認身份)"
   ]
  },
  {
   "cell_type": "code",
   "execution_count": 9,
   "metadata": {},
   "outputs": [
    {
     "name": "stdout",
     "output_type": "stream",
     "text": [
      "label= 0\n",
      "confidence= 67.6856704732354\n"
     ]
    }
   ],
   "source": [
    "import cv2\n",
    "import numpy as np\n",
    "\n",
    "images=[]\n",
    "images.append(cv2.imread(\"./images/a1.png\",cv2.IMREAD_GRAYSCALE))\n",
    "images.append(cv2.imread(\"./images/a2.png\",cv2.IMREAD_GRAYSCALE))\n",
    "images.append(cv2.imread(\"./images/b1.png\",cv2.IMREAD_GRAYSCALE))\n",
    "images.append(cv2.imread(\"./images/b2.png\",cv2.IMREAD_GRAYSCALE))\n",
    "labels=[0,0,1,1]  #把第1.2照片設為 id 0這個人 ，把第3.4照片設為id 1這個人\n",
    "\n",
    "#訓練模型\n",
    "recognizer = cv2.face.LBPHFaceRecognizer_create()\n",
    "recognizer.train(images, np.array(labels))  \n",
    "\n",
    "#測試：把a3這張照片拿去跟模型比對\n",
    "predict_image=cv2.imread(\"./images/a3.png\",cv2.IMREAD_GRAYSCALE) \n",
    "label,confidence= recognizer.predict(predict_image) \n",
    "print(\"label=\",label) # 測出是誰\n",
    "print(\"confidence=\",confidence) #信心度\n"
   ]
  },
  {
   "cell_type": "markdown",
   "metadata": {},
   "source": [
    "# EigenFaces 人臉辨識(辨認身份)"
   ]
  },
  {
   "cell_type": "code",
   "execution_count": 10,
   "metadata": {},
   "outputs": [
    {
     "name": "stdout",
     "output_type": "stream",
     "text": [
      "label= 0\n",
      "confidence= 1600.5481032349048\n"
     ]
    }
   ],
   "source": [
    "import cv2\n",
    "import numpy as np\n",
    "\n",
    "images=[]\n",
    "images.append(cv2.imread(\"./images/e01.png\",cv2.IMREAD_GRAYSCALE))\n",
    "images.append(cv2.imread(\"./images/e02.png\",cv2.IMREAD_GRAYSCALE))\n",
    "images.append(cv2.imread(\"./images/e11.png\",cv2.IMREAD_GRAYSCALE))\n",
    "images.append(cv2.imread(\"./images/e12.png\",cv2.IMREAD_GRAYSCALE))\n",
    "labels=[0,0,1,1]\n",
    "\n",
    "#訓練模型\n",
    "recognizer = cv2.face.EigenFaceRecognizer_create()\n",
    "recognizer.train(images, np.array(labels)) \n",
    "\n",
    "#測試\n",
    "predict_image=cv2.imread(\"./images/eTest.png\",cv2.IMREAD_GRAYSCALE)\n",
    "label,confidence= recognizer.predict(predict_image) \n",
    "print(\"label=\",label)\n",
    "print(\"confidence=\",confidence)\n"
   ]
  },
  {
   "cell_type": "markdown",
   "metadata": {},
   "source": [
    "# Fisherfaces 人臉辨識(辨認身份)"
   ]
  },
  {
   "cell_type": "code",
   "execution_count": 11,
   "metadata": {},
   "outputs": [
    {
     "name": "stdout",
     "output_type": "stream",
     "text": [
      "label= 0\n",
      "confidence= 92.5647623298737\n"
     ]
    }
   ],
   "source": [
    "import cv2\n",
    "import numpy as np\n",
    "\n",
    "images=[]\n",
    "images.append(cv2.imread(\"./images/f01.png\",cv2.IMREAD_GRAYSCALE))\n",
    "images.append(cv2.imread(\"./images/f02.png\",cv2.IMREAD_GRAYSCALE))\n",
    "images.append(cv2.imread(\"./images/f11.png\",cv2.IMREAD_GRAYSCALE))\n",
    "images.append(cv2.imread(\"./images/f12.png\",cv2.IMREAD_GRAYSCALE))\n",
    "labels=[0,0,1,1]\n",
    "\n",
    "recognizer = cv2.face.FisherFaceRecognizer_create()\n",
    "recognizer.train(images, np.array(labels))  \n",
    "\n",
    "predict_image=cv2.imread(\"./images/fTest.png\",cv2.IMREAD_GRAYSCALE)\n",
    "label,confidence= recognizer.predict(predict_image) \n",
    "print(\"label=\",label)\n",
    "print(\"confidence=\",confidence)\n"
   ]
  }
 ],
 "metadata": {
  "kernelspec": {
   "display_name": "Python 3",
   "language": "python",
   "name": "python3"
  },
  "language_info": {
   "codemirror_mode": {
    "name": "ipython",
    "version": 3
   },
   "file_extension": ".py",
   "mimetype": "text/x-python",
   "name": "python",
   "nbconvert_exporter": "python",
   "pygments_lexer": "ipython3",
   "version": "3.7.9"
  }
 },
 "nbformat": 4,
 "nbformat_minor": 4
}
