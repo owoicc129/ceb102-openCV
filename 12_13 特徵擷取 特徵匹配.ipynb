{
 "cells": [
  {
   "cell_type": "markdown",
   "metadata": {},
   "source": [
    "# SIFT  會算出 照片的關鍵點\n",
    "- ref1: https://kknews.cc/zh-tw/code/e6brxxr.html  \n",
    "- ref2: https://blog.francium.tech/feature-detection-and-matching-with-opencv-5fd2394a590\n",
    "\n",
    "`使用DoG和SIFT進行特徵提取和描述`\n",
    "* cv2.SIFT.detectAndCompute(image, mask[,descriptors[,useProvidedKeypoints]]) \n",
    "→ keypoints, descriptors\n",
    "        \n",
    "* cv2.drawKeypoints(image, keypoints[,outImage[,color[,flags]]])\n",
    "→ outImage\n",
    "        \n",
    "1. 首先建立了一個SIFT物件，SIFT物件會使用DoG檢測關鍵點，並且對每個關鍵點周圍區域計算特徵向量。\n",
    "2. detectAndCompute()函式會返回關鍵點資訊(每一個元素都是一個物件，有興趣的可以看一下OpenCV原始碼)和關鍵點的描述符。\n",
    "3. 然後，我們在影象上繪製關鍵點，並顯示出來。"
   ]
  },
  {
   "cell_type": "markdown",
   "metadata": {},
   "source": [
    "有問題的話 \n",
    "`pip uninstall opencv-python\n",
    "pip install opencv-contrib-python`"
   ]
  },
  {
   "cell_type": "code",
   "execution_count": 3,
   "metadata": {},
   "outputs": [
    {
     "name": "stdout",
     "output_type": "stream",
     "text": [
      "2920\n",
      "(2920, 128)\n"
     ]
    }
   ],
   "source": [
    "# -*- coding:utf-8 -*-\n",
    "import os\n",
    "import cv2\n",
    "import numpy as np\n",
    "\n",
    "img = cv2.imread('./images/stuff.jpg')\n",
    "gray = cv2.cvtColor(img, cv2.COLOR_BGR2GRAY) #先換成灰階\n",
    "\n",
    "#建立sift物件  \n",
    "sift = cv2.xfeatures2d.SIFT_create()\n",
    "\n",
    "#進行檢測和計算  返回關鍵點資訊和描述符\n",
    "keypoints , descriptor = sift.detectAndCompute(gray, None)\n",
    "#keypoints：特徵點集合list，向量內每一個元素是一個KeyPoint物件，包含了特徵點的各種屬性資訊\n",
    "\n",
    "\n",
    "#繪製關鍵點\n",
    "img = cv2.drawKeypoints(img, keypoints=keypoints, outImage=img, color= (51, 163, 236), flags= cv2.DRAW_MATCHES_FLAGS_DRAW_RICH_KEYPOINTS)\n",
    "\n",
    "#sift得到的影象為128維的特徵向量集\n",
    "print(len(keypoints)) #幾個關鍵點\n",
    "print(descriptor.shape)\n",
    "\n",
    "cv2.imshow('sift_keypoints',img)\n",
    "cv2.waitKey()\n",
    "cv2.destroyAllWindows()"
   ]
  }
 ],
 "metadata": {
  "kernelspec": {
   "display_name": "Python 3",
   "language": "python",
   "name": "python3"
  },
  "language_info": {
   "codemirror_mode": {
    "name": "ipython",
    "version": 3
   },
   "file_extension": ".py",
   "mimetype": "text/x-python",
   "name": "python",
   "nbconvert_exporter": "python",
   "pygments_lexer": "ipython3",
   "version": "3.7.9"
  }
 },
 "nbformat": 4,
 "nbformat_minor": 4
}
