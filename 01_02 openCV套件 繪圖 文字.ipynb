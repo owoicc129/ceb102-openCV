{
 "cells": [
  {
   "cell_type": "markdown",
   "metadata": {},
   "source": [
    "## Install OpenCV\n",
    "`pip install opencv-python`"
   ]
  },
  {
   "cell_type": "markdown",
   "metadata": {},
   "source": [
    "# Basic OpenCV `照片是 矩陣+維度 所形成`"
   ]
  },
  {
   "cell_type": "markdown",
   "metadata": {},
   "source": [
    "![alt text](images/lena.jpg)"
   ]
  },
  {
   "cell_type": "markdown",
   "metadata": {},
   "source": [
    "## read/write image"
   ]
  },
  {
   "cell_type": "code",
   "execution_count": 7,
   "metadata": {},
   "outputs": [],
   "source": [
    "import cv2 #opencv读取的格式是BGR\n",
    "import matplotlib.pyplot as plt\n",
    "import numpy as np\n",
    "\n",
    "#把圖嵌在jupyter裡面，不是python語法，用ju才要加這句\n",
    "%matplotlib inline \n",
    "\n",
    "                          #檔案位置         讀取方法\n",
    "color_img=cv2.imread('./images/cat.jpg',cv2.IMREAD_COLOR) \n",
    "gray_img=cv2.imread('./images/cat.jpg',cv2.IMREAD_GRAYSCALE) "
   ]
  },
  {
   "cell_type": "code",
   "execution_count": 7,
   "metadata": {},
   "outputs": [
    {
     "data": {
      "text/plain": [
       "(414, 500, 3)"
      ]
     },
     "execution_count": 7,
     "metadata": {},
     "output_type": "execute_result"
    }
   ],
   "source": [
    "color_img.shape  #.shape矩阵的长度 因為是彩色照片 所以有長寬+深度RGB"
   ]
  },
  {
   "cell_type": "code",
   "execution_count": 8,
   "metadata": {},
   "outputs": [
    {
     "data": {
      "text/plain": [
       "(414, 500)"
      ]
     },
     "execution_count": 8,
     "metadata": {},
     "output_type": "execute_result"
    }
   ],
   "source": [
    "gray_img.shape # 灰階照片 只有長寬"
   ]
  },
  {
   "cell_type": "code",
   "execution_count": 9,
   "metadata": {},
   "outputs": [
    {
     "data": {
      "text/plain": [
       "dtype('uint8')"
      ]
     },
     "execution_count": 9,
     "metadata": {},
     "output_type": "execute_result"
    }
   ],
   "source": [
    "color_img.dtype  "
   ]
  },
  {
   "cell_type": "code",
   "execution_count": 10,
   "metadata": {},
   "outputs": [
    {
     "data": {
      "text/plain": [
       "dtype('uint8')"
      ]
     },
     "execution_count": 10,
     "metadata": {},
     "output_type": "execute_result"
    }
   ],
   "source": [
    "gray_img.dtype  # uint8=无符号整数（0 to 255）"
   ]
  },
  {
   "cell_type": "code",
   "execution_count": 11,
   "metadata": {},
   "outputs": [
    {
     "data": {
      "text/plain": [
       "array([[[142, 151, 160],\n",
       "        [146, 155, 164],\n",
       "        [151, 160, 170],\n",
       "        ...,\n",
       "        [156, 172, 185],\n",
       "        [155, 171, 184],\n",
       "        [154, 170, 183]],\n",
       "\n",
       "       [[108, 117, 126],\n",
       "        [112, 123, 131],\n",
       "        [118, 127, 137],\n",
       "        ...,\n",
       "        [155, 171, 184],\n",
       "        [154, 170, 183],\n",
       "        [153, 169, 182]],\n",
       "\n",
       "       [[108, 119, 127],\n",
       "        [110, 123, 131],\n",
       "        [118, 128, 138],\n",
       "        ...,\n",
       "        [156, 169, 183],\n",
       "        [155, 168, 182],\n",
       "        [154, 167, 181]],\n",
       "\n",
       "       ...,\n",
       "\n",
       "       [[162, 186, 198],\n",
       "        [157, 181, 193],\n",
       "        [142, 166, 178],\n",
       "        ...,\n",
       "        [181, 204, 206],\n",
       "        [170, 193, 195],\n",
       "        [149, 172, 174]],\n",
       "\n",
       "       [[140, 164, 176],\n",
       "        [147, 171, 183],\n",
       "        [139, 163, 175],\n",
       "        ...,\n",
       "        [169, 187, 188],\n",
       "        [125, 143, 144],\n",
       "        [106, 124, 125]],\n",
       "\n",
       "       [[154, 178, 190],\n",
       "        [154, 178, 190],\n",
       "        [121, 145, 157],\n",
       "        ...,\n",
       "        [183, 198, 200],\n",
       "        [128, 143, 145],\n",
       "        [127, 142, 144]]], dtype=uint8)"
      ]
     },
     "execution_count": 11,
     "metadata": {},
     "output_type": "execute_result"
    }
   ],
   "source": [
    "color_img       #照片裡面的像素長這樣"
   ]
  },
  {
   "cell_type": "code",
   "execution_count": 12,
   "metadata": {},
   "outputs": [
    {
     "data": {
      "text/plain": [
       "array([[153, 157, 162, ..., 174, 173, 172],\n",
       "       [119, 124, 129, ..., 173, 172, 171],\n",
       "       [120, 124, 130, ..., 172, 171, 170],\n",
       "       ...,\n",
       "       [187, 182, 167, ..., 202, 191, 170],\n",
       "       [165, 172, 164, ..., 185, 141, 122],\n",
       "       [179, 179, 146, ..., 197, 142, 141]], dtype=uint8)"
      ]
     },
     "execution_count": 12,
     "metadata": {},
     "output_type": "execute_result"
    }
   ],
   "source": [
    "gray_img #0~255 代表不同程度"
   ]
  },
  {
   "cell_type": "code",
   "execution_count": 8,
   "metadata": {},
   "outputs": [],
   "source": [
    "# show image\n",
    "cv2.imshow('image',color_img)  #(視窗標題,哪張照片)\n",
    "# cv2.imshow('image',gray_img)\n",
    "\n",
    "# waiting time(ms), 0 mean any stop key\n",
    "cv2.waitKey(0) #寫0代表這張照片會一直開著，直到你任意按一鍵才關掉(寫3000就是開3秒)\n",
    "cv2.destroyAllWindows()"
   ]
  },
  {
   "cell_type": "code",
   "execution_count": 9,
   "metadata": {},
   "outputs": [
    {
     "data": {
      "text/plain": [
       "True"
      ]
     },
     "execution_count": 9,
     "metadata": {},
     "output_type": "execute_result"
    }
   ],
   "source": [
    "cv2.imwrite('./images/mycat.png',color_img)   #寫檔 (要寫入哪,哪張圖)\n",
    "cv2.imwrite('./images/mycat2.png',gray_img)"
   ]
  },
  {
   "cell_type": "markdown",
   "metadata": {},
   "source": [
    "## 像素到底長怎樣? 一個[  ]寫的3個數字就是一顆像素 [B,G,R]"
   ]
  },
  {
   "cell_type": "code",
   "execution_count": 15,
   "metadata": {},
   "outputs": [
    {
     "data": {
      "text/plain": [
       "array([[[  0, 255,   0],\n",
       "        [  0, 255,   0],\n",
       "        [  0, 255,   0],\n",
       "        [  0, 255,   0]],\n",
       "\n",
       "       [[  0, 255,   0],\n",
       "        [  0, 255,   0],\n",
       "        [  0, 255,   0],\n",
       "        [  0, 255,   0]],\n",
       "\n",
       "       [[  0, 255,   0],\n",
       "        [  0, 255,   0],\n",
       "        [  0, 255,   0],\n",
       "        [  0, 255,   0]],\n",
       "\n",
       "       [[  0, 255,   0],\n",
       "        [  0, 255,   0],\n",
       "        [  0, 255,   0],\n",
       "        [  0, 255,   0]],\n",
       "\n",
       "       [[  0, 255,   0],\n",
       "        [  0, 255,   0],\n",
       "        [  0, 255,   0],\n",
       "        [  0, 255,   0]]], dtype=uint8)"
      ]
     },
     "execution_count": 15,
     "metadata": {},
     "output_type": "execute_result"
    }
   ],
   "source": [
    "import numpy as np\n",
    "import cv2\n",
    "g_img = np.zeros((5,4,3), dtype=np.uint8)  #長5 寬4 深 3\n",
    "g_img[:,:,1] = 255 #純綠色\n",
    "cv2.imshow('g_img', g_img)\n",
    "\n",
    "g_img"
   ]
  },
  {
   "cell_type": "code",
   "execution_count": 18,
   "metadata": {},
   "outputs": [
    {
     "data": {
      "text/plain": [
       "array([[0, 0, 0, ..., 0, 0, 0],\n",
       "       [0, 0, 0, ..., 0, 0, 0],\n",
       "       [0, 0, 0, ..., 0, 0, 0],\n",
       "       ...,\n",
       "       [0, 0, 0, ..., 0, 0, 0],\n",
       "       [0, 0, 0, ..., 0, 0, 0],\n",
       "       [0, 0, 0, ..., 0, 0, 0]], dtype=uint8)"
      ]
     },
     "execution_count": 18,
     "metadata": {},
     "output_type": "execute_result"
    }
   ],
   "source": [
    "import numpy as np\n",
    "import cv2\n",
    "g_img = np.zeros((500,400), dtype=np.uint8)  #長500 寬400\n",
    "g_img[:,:] = 0  #0是純黑 255純白\n",
    "cv2.imshow('g_img', g_img)\n",
    "cv2.waitKey(0) \n",
    "cv2.destroyAllWindows()\n",
    "g_img"
   ]
  },
  {
   "cell_type": "markdown",
   "metadata": {},
   "source": [
    "## region of interest (ROI) 你感興趣的只有圖的一小角"
   ]
  },
  {
   "cell_type": "code",
   "execution_count": 10,
   "metadata": {},
   "outputs": [],
   "source": [
    "import cv2\n",
    "img=cv2.imread('./images/cat.jpg')\n",
    "cv2.imshow('image',img) # .imshow(標題名稱,哪張圖)\n",
    "\n",
    "cv2.waitKey(0) \n",
    "cv2.destroyAllWindows()"
   ]
  },
  {
   "cell_type": "code",
   "execution_count": 11,
   "metadata": {},
   "outputs": [],
   "source": [
    "# 只框出你要的部分 \n",
    "cat=img[0:50,0:200]  #左上是(0,0)  [x,y] 往下x 往右y\n",
    "cv2.imshow('image',cat) \n",
    "\n",
    "cv2.waitKey(0) \n",
    "cv2.destroyAllWindows()"
   ]
  },
  {
   "cell_type": "markdown",
   "metadata": {},
   "source": [
    "## split image channel  圖片分層"
   ]
  },
  {
   "cell_type": "code",
   "execution_count": 12,
   "metadata": {},
   "outputs": [],
   "source": [
    "import cv2\n",
    "img=cv2.imread('./images/cat.jpg')\n",
    "\n",
    "#切開寫法一：\n",
    "b = img[:,:,0] \n",
    "g = img[:,:,1]  #[全選,全選,index是固定] RGB的順序其實顯示是 依B G R 顯示\n",
    "r = img[:,:,2]\n",
    "\n",
    "#切開寫法二： 3張切開\n",
    "# b, g, r = cv2.split(img) \n",
    "\n",
    "# cv2.imshow('origin',img)\n",
    "\n",
    "cv2.imshow('b',b)\n",
    "cv2.imshow('g',g) #每個單片 其實就是灰階照片\n",
    "cv2.imshow('r',r)\n",
    "\n",
    "#把 b設成 0 ：清掉 b 剩 r g\n",
    "img[:,:,0] = 0\n",
    "cv2.imshow('clean channel b to zero',img)  \n",
    "\n",
    "#接上面 清掉 b又清 g 就剩 r\n",
    "img[:,:,1] = 0\n",
    "cv2.imshow('clean channel b & g to zero',img) \n",
    "\n",
    "\n",
    "\n",
    "cv2.waitKey(0) \n",
    "cv2.destroyAllWindows()"
   ]
  },
  {
   "cell_type": "markdown",
   "metadata": {},
   "source": [
    "## merge image channel 圖片合併"
   ]
  },
  {
   "cell_type": "code",
   "execution_count": 20,
   "metadata": {},
   "outputs": [],
   "source": [
    "import cv2\n",
    "img=cv2.imread('./images/cat.jpg')\n",
    "\n",
    "b, g, r = cv2.split(img)\n",
    "bgr_img = cv2.merge([b,g,r])\n",
    "rgb_img = cv2.merge([r,g,b])  #沒照BGR順序 照片會怪怪\n",
    "\n",
    "cv2.imshow('bgr image',bgr_img)\n",
    "cv2.imshow('rgb image',rgb_img)\n",
    "\n",
    "cv2.waitKey(0) \n",
    "cv2.destroyAllWindows()"
   ]
  },
  {
   "cell_type": "markdown",
   "metadata": {},
   "source": [
    "## Generate images 建立圖片"
   ]
  },
  {
   "cell_type": "code",
   "execution_count": 7,
   "metadata": {},
   "outputs": [],
   "source": [
    "import numpy as np\n",
    "import cv2\n",
    "\n",
    "b_img = np.zeros((300,300,3), dtype=np.uint8) #(長.寬.深度)是彩色 所以深度3  建立一個300*300*3全為0的陣列\n",
    "b_img[:,:,0] = 255  #b的255=純藍色 \n",
    "cv2.imshow('b_img', b_img)\n",
    "\n",
    "g_img = np.zeros((300,300,3), dtype=np.uint8)\n",
    "g_img[:,:,1] = 255 #純綠色\n",
    "cv2.imshow('g_img', g_img)\n",
    "\n",
    "r_img = np.zeros((300,300,3), dtype=np.uint8)\n",
    "r_img[:,:,2] = 255  #純紅色\n",
    "cv2.imshow('r_img', r_img)\n",
    "\n",
    "random_img =  np.random.randint(0,256, size=[300,300], dtype=np.uint8)  # random是灰階 所以沒有深度  (0-256就是0-255 255不算)\n",
    "cv2.imshow('random_img', random_img) \n",
    "\n",
    "cv2.waitKey(0) \n",
    "cv2.destroyAllWindows()"
   ]
  },
  {
   "cell_type": "markdown",
   "metadata": {},
   "source": [
    "## Boundary Padding  邊界填充\n",
    "- BORDER_REPLICATE：复制法，也就是复制\"最边缘\"像素。\n",
    "- BORDER_REFLECT：反射法，对感兴趣的图像中的像素在\"两边\"进行复制例如：fedcba|abcdefgh|hgfedcb   \n",
    "- BORDER_REFLECT_101：反射法，也就是以\"最边缘\"像素为轴，对称，gfedcb|abcdefgh|gfedcba\n",
    "- BORDER_WRAP：外包装法cdefgh|abcdefgh|abcdefg  \n",
    "- BORDER_CONSTANT：常量法，常数值填充。"
   ]
  },
  {
   "cell_type": "code",
   "execution_count": 7,
   "metadata": {},
   "outputs": [],
   "source": [
    "import numpy as np\n",
    "import cv2\n",
    "\n",
    "img=cv2.imread('./images/cat.jpg')\n",
    "\n",
    "#設定好上下左右 要各加多少像素\n",
    "top_size,bottom_size,left_size,right_size = (50,50,50,50)\n",
    "\n",
    "replicate = cv2.copyMakeBorder(img, top_size, bottom_size, left_size, right_size, borderType=cv2.BORDER_REPLICATE)\n",
    "reflect = cv2.copyMakeBorder(img, top_size, bottom_size, left_size, right_size,cv2.BORDER_REFLECT)\n",
    "reflect101 = cv2.copyMakeBorder(img, top_size, bottom_size, left_size, right_size, cv2.BORDER_REFLECT_101)\n",
    "wrap = cv2.copyMakeBorder(img, top_size, bottom_size, left_size, right_size, cv2.BORDER_WRAP)\n",
    "constant = cv2.copyMakeBorder(img, top_size, bottom_size, left_size, right_size,cv2.BORDER_CONSTANT, value=(0,255,0))\n",
    "                                                                                          # value=0 是顏色， BGR\n",
    "cv2.imshow('replicate', replicate)\n",
    "cv2.imshow('reflect', reflect)\n",
    "cv2.imshow('reflect101', reflect101)\n",
    "cv2.imshow('wrap', wrap)\n",
    "cv2.imshow('constant', constant)\n",
    "\n",
    "cv2.waitKey(0) \n",
    "cv2.destroyAllWindows()"
   ]
  },
  {
   "cell_type": "markdown",
   "metadata": {},
   "source": [
    "## Image Operation(ADD)  圖片相加 可指定加多少數值"
   ]
  },
  {
   "cell_type": "code",
   "execution_count": 3,
   "metadata": {},
   "outputs": [
    {
     "name": "stdout",
     "output_type": "stream",
     "text": [
      "[[186 250 150]\n",
      " [172 195 254]\n",
      " [170 203 154]]\n",
      "[[122 237 162]\n",
      " [111 159  29]\n",
      " [ 99 130 144]]\n",
      "[[ 52 231  56]\n",
      " [ 27  98  27]\n",
      " [ 13  77  42]]\n"
     ]
    }
   ],
   "source": [
    "import cv2\n",
    "import numpy as np\n",
    "\n",
    "# np.random.randint公式(low, high=None, size=None, dtype='l')\n",
    "img1 = np.random.randint(0, 256, size=[3,3], dtype=np.uint8)\n",
    "img2 = np.random.randint(0, 256, size=[3,3], dtype=np.uint8)\n",
    "\n",
    "print(img1)\n",
    "print(img2)\n",
    "print(img1+img2)  #這種方法 超過255的部分 會變成a+b-256 ，建議用下一格寫法"
   ]
  },
  {
   "cell_type": "code",
   "execution_count": 14,
   "metadata": {},
   "outputs": [
    {
     "name": "stdout",
     "output_type": "stream",
     "text": [
      "[[106 169   1]\n",
      " [ 42 234 159]\n",
      " [124  31   1]]\n",
      "[[ 11 148 247]\n",
      " [255 121  82]\n",
      " [130 210 214]]\n",
      "[[117 255 248]\n",
      " [255 255 241]\n",
      " [254 241 215]]\n"
     ]
    }
   ],
   "source": [
    "import cv2\n",
    "import numpy as np\n",
    "\n",
    "img1 = np.random.randint(0, 256, size=[3,3], dtype=np.uint8)\n",
    "img2 = np.random.randint(0, 256, size=[3,3], dtype=np.uint8)\n",
    "\n",
    "print(img1)\n",
    "print(img2)\n",
    "print(cv2.add(img1,img2))  #這種方法 超過255的部分 就訂為255"
   ]
  },
  {
   "cell_type": "code",
   "execution_count": 8,
   "metadata": {},
   "outputs": [],
   "source": [
    "import cv2\n",
    "\n",
    "img1=cv2.imread('./images/cat.jpg',cv2.IMREAD_COLOR)\n",
    "img2=cv2.imread('./images/cat.jpg',cv2.IMREAD_COLOR)\n",
    "\n",
    "cv2.imshow('img1+img2', img1+img2)\n",
    "cv2.imshow('cv2.add(img1, img2)', cv2.add(img1,img2)) #這種方法雖不超過255 但兩張圖片直接相加有點太多\n",
    "\n",
    "cv2.waitKey(0) \n",
    "cv2.destroyAllWindows()"
   ]
  },
  {
   "cell_type": "code",
   "execution_count": 1,
   "metadata": {},
   "outputs": [],
   "source": [
    "import cv2\n",
    "\n",
    "img1=cv2.imread('./images/cat.jpg',cv2.IMREAD_COLOR)\n",
    "\n",
    "cv2.imshow('img1', img1)\n",
    "cv2.imshow('img1+50', cv2.add(img1,50))  #只加 50\n",
    "\n",
    "cv2.waitKey(0) \n",
    "cv2.destroyAllWindows()"
   ]
  },
  {
   "cell_type": "markdown",
   "metadata": {},
   "source": [
    "## Image Operation(ADD Weighted)  加權平均\n",
    "## 合併兩張圖 誰要比較明顯"
   ]
  },
  {
   "cell_type": "code",
   "execution_count": 7,
   "metadata": {},
   "outputs": [],
   "source": [
    "import cv2\n",
    "\n",
    "img1=cv2.imread('./images/cat.jpg',cv2.IMREAD_COLOR)\n",
    "img2=cv2.imread('./images/lena.jpg',cv2.IMREAD_COLOR)\n",
    "\n",
    "img1 = cv2.resize(img1, (250, 250)) #改變尺寸 讓兩張大小變一樣\n",
    "img2 = cv2.resize(img2, (250, 250)) # .resize(哪張照片,(長,寬))\n",
    "\n",
    "# 分配權重 誰要比較明顯 img1*0.4權重 + img2*0.6權重 + 0\n",
    "result = cv2.addWeighted(img1, 0.4, img2, 0.6, 0)\n",
    "\n",
    "cv2.imshow('weighted image', result)\n",
    "\n",
    "cv2.waitKey(0) \n",
    "cv2.destroyAllWindows()"
   ]
  },
  {
   "cell_type": "markdown",
   "metadata": {},
   "source": [
    "## Image Operation(Bitwise Operation) 視為二進位處理\n",
    "#### 舉例：二進位  011 .101 兩個數來做比較\n",
    "####  and 兩個都有1 才是1 : 001\n",
    "####  or   一個有1就是1 : 111\n",
    "A AND B 只有在兩者皆為 1 的時候才會 1，A OR B 則是兩者有ㄧ者為1的時候就會1，而A XOR B 是 A 與 B 不相等的時候為 1，NOT 則是單純地 0 變  1、1 變 0。"
   ]
  },
  {
   "cell_type": "code",
   "execution_count": 7,
   "metadata": {},
   "outputs": [],
   "source": [
    "import cv2\n",
    "import numpy as np\n",
    "\n",
    "img1 = cv2.imread('./images/lena.jpg')\n",
    "img2 = np.zeros(img1.shape, dtype=np.uint8)\n",
    "img2[100:400, 200:400]=255  #中間部分設為純白色\n",
    "img2[100:500, 100:200]=255\n",
    "\n",
    "# cv2.imshow('img1', img1)\n",
    "# cv2.imshow('img2', img2)\n",
    "\n",
    "\n",
    "and_result = cv2.bitwise_and(img1, img2) # lena跟白色 都有的部分\n",
    "or_result = cv2.bitwise_or(img1, img2) #lena 有或白有的部分 所以實際是lena+白重疊\n",
    "xor_result = cv2.bitwise_xor(img1, img2) #兩個不同 就1\n",
    "not_result = cv2.bitwise_not(img1) #把lena的值反轉\n",
    "cv2.imshow('and result', and_result)\n",
    "cv2.imshow('or result', or_result)\n",
    "cv2.imshow('xor result', xor_result)\n",
    "cv2.imshow('not result', not_result)\n",
    "\n",
    "\n",
    "cv2.waitKey(0) \n",
    "cv2.destroyAllWindows()"
   ]
  },
  {
   "cell_type": "markdown",
   "metadata": {},
   "source": [
    "## Image Operation(Encrypt image) 早期 影像加密方法"
   ]
  },
  {
   "cell_type": "code",
   "execution_count": 8,
   "metadata": {},
   "outputs": [],
   "source": [
    "import cv2\n",
    "import numpy as np\n",
    "\n",
    "img1 = cv2.imread('./images/lena.jpg')\n",
    "key = np.random.randint(0,256,size=img1.shape, dtype=np.uint8)  # 所以key是隨機的東西\n",
    "\n",
    "encryption = cv2.bitwise_xor(img1, key)  #加密 把照片跟key做xor\n",
    "decryption = cv2.bitwise_xor(encryption, key)  #解密 用已xor的再跟key做xor\n",
    "\n",
    "cv2.imshow('img1', img1)\n",
    "cv2.imshow('key', key)\n",
    "cv2.imshow('encryption', encryption)\n",
    "cv2.imshow('decryption', decryption)\n",
    "\n",
    "\n",
    "cv2.waitKey(0) \n",
    "cv2.destroyAllWindows()"
   ]
  },
  {
   "cell_type": "markdown",
   "metadata": {},
   "source": [
    "# Color Space"
   ]
  },
  {
   "cell_type": "markdown",
   "metadata": {},
   "source": [
    "## Grayscale"
   ]
  },
  {
   "cell_type": "code",
   "execution_count": 1,
   "metadata": {},
   "outputs": [],
   "source": [
    "import cv2 #opencv讀取格式是BGR\n",
    "import numpy as np\n",
    "\n",
    "img=cv2.imread('./images/lena.jpg')\n",
    "img_gray = cv2.cvtColor(img,cv2.COLOR_BGR2GRAY)   # COLOR_BGR2GRAY 把BGR轉換成GRAY\n",
    "cv2.imshow('gray image', img_gray)\n",
    "\n",
    "cv2.waitKey(0) \n",
    "cv2.destroyAllWindows()"
   ]
  },
  {
   "cell_type": "markdown",
   "metadata": {},
   "source": [
    "## HSV  \n",
    "- H - 色調(主波長) \n",
    "- S - 飽和度\n",
    "- V - 強度"
   ]
  },
  {
   "cell_type": "code",
   "execution_count": 9,
   "metadata": {},
   "outputs": [],
   "source": [
    "import cv2\n",
    "import numpy as np\n",
    "\n",
    "img=cv2.imread('./images/lena.jpg')\n",
    "img_hsv = cv2.cvtColor(img,cv2.COLOR_BGR2HSV)\n",
    "cv2.imshow('HSV image', img_hsv)\n",
    "\n",
    "cv2.waitKey(0) \n",
    "cv2.destroyAllWindows()"
   ]
  },
  {
   "cell_type": "markdown",
   "metadata": {},
   "source": [
    "## Threshold   /ˈθreʃ.hoʊld/ 門檻\n",
    "### 變成二元照片(只有黑or白)\n",
    "\n",
    "#### 公式 ret, dst输出图 = cv2.threshold(src输入图, thresh阈值, maxval最大值, type)\n",
    "\n",
    "- src： 输入图，只能输入单通道图像，通常来说为灰度图\n",
    "- dst： 输出图\n",
    "- thresh： 阈值\n",
    "- maxval： 当像素值超过了阈值（或者小于阈值，根据type来决定），所赋予的值\n",
    "#### type：二值化操作的类型，包含以下5种类型：\n",
    "- cv2.THRESH_BINARY           ：超过門檻部分取maxval（最大值），否则取0\n",
    "- cv2.THRESH_BINARY_INV    ：THRESH_BINARY的反转\n",
    "- cv2.THRESH_TRUNC            ：大於門檻部分设为阈值，否则不变\n",
    "- cv2.THRESH_TOZERO          ：大於門檻部分不改变，否则设为0\n",
    "- cv2.THRESH_TOZERO_INV  ：THRESH_TOZERO的反转"
   ]
  },
  {
   "cell_type": "code",
   "execution_count": 16,
   "metadata": {},
   "outputs": [
    {
     "data": {
      "image/png": "[encoded data removed]",
      "text/plain": [
       "<Figure size 432x288 with 6 Axes>"
      ]
     },
     "metadata": {},
     "output_type": "display_data"
    }
   ],
   "source": [
    "import cv2\n",
    "import numpy as np\n",
    "import matplotlib.pyplot as plt\n",
    "%matplotlib inline\n",
    "\n",
    "img=cv2.imread('./images/lena.jpg')\n",
    "img_gray = cv2.cvtColor(img,cv2.COLOR_BGR2GRAY) #要先轉成灰階\n",
    "\n",
    "ret, thresh1 = cv2.threshold(img_gray, 127, 255, cv2.THRESH_BINARY)  # THRESH_BINARY 像素超過127就會設成255 ，沒超過的就設0\n",
    "ret, thresh2 = cv2.threshold(img_gray, 127, 255, cv2.THRESH_BINARY_INV)\n",
    "ret, thresh3 = cv2.threshold(img_gray, 127, 255, cv2.THRESH_TRUNC)\n",
    "ret, thresh4 = cv2.threshold(img_gray, 127, 255, cv2.THRESH_TOZERO)\n",
    "ret, thresh5 = cv2.threshold(img_gray, 127, 255, cv2.THRESH_TOZERO_INV)\n",
    "\n",
    "titles = ['Original Image', 'BINARY', 'BINARY_INV', 'TRUNC', 'TOZERO', 'TOZERO_INV']\n",
    "\n",
    "# COLOR_BGR2RGB (openCV 都是讀BGR ，但matplotlib是讀RGB 所以要轉換)\n",
    "img = cv2.cvtColor(img,cv2.COLOR_BGR2RGB)\n",
    "\n",
    "images = [img, thresh1, thresh2, thresh3, thresh4, thresh5]\n",
    "\n",
    "for i in range(6):\n",
    "    plt.subplot(2, 3, i + 1) #順序位置 (列,行,第幾張)\n",
    "    plt.imshow(images[i], 'gray')\n",
    "    plt.title(titles[i]) #秀出 每張圖片頭上的標題\n",
    "    plt.xticks([]), plt.yticks([]) #把x.y軸標籤都用成空白\n",
    "plt.show()"
   ]
  },
  {
   "cell_type": "markdown",
   "metadata": {},
   "source": [
    "# Drawing 畫畫 (線.方框.圈.多邊形)\n",
    "#### 座標看法 左上角(0,0) 往右是x 往下是y"
   ]
  },
  {
   "cell_type": "code",
   "execution_count": 26,
   "metadata": {},
   "outputs": [],
   "source": [
    "import numpy as np\n",
    "import cv2\n",
    "\n",
    "# 建立一張 512x512 的 RGB 圖片（黑色，因為裡面全是0）\n",
    "img = np.zeros((256, 256, 3), np.uint8)\n",
    "\n",
    "# 將圖片用淺灰色 (200, 200, 200)填滿 \n",
    "img.fill(200) # .fill填滿 200是灰色 \n",
    "\n",
    "# 在圖片上畫一條紅色的對角線，寬度為 5 px\n",
    "        # 座標  起始      結束     顏色 B G R  粗度\n",
    "cv2.line(img, (0, 0), (255, 255), (0, 0, 255), 5)\n",
    "\n",
    "# 顯示圖片\n",
    "cv2.imshow('My Image', img)\n",
    "\n",
    "# 按下任意鍵則關閉所有視窗\n",
    "cv2.waitKey(0)\n",
    "cv2.destroyAllWindows()"
   ]
  },
  {
   "cell_type": "code",
   "execution_count": 21,
   "metadata": {},
   "outputs": [],
   "source": [
    "import numpy as np\n",
    "import cv2\n",
    "\n",
    "img = np.zeros((256, 256, 3), np.uint8)\n",
    "img.fill(200)\n",
    "\n",
    "# 在圖片上畫一個綠色方框，線條寬度為 2 px\n",
    "cv2.rectangle(img, (20, 60), (120, 160), (0, 255, 0), 2)\n",
    "\n",
    "# 綠色實心方框\n",
    "cv2.rectangle(img, (40, 80), (100, 140), (0, 255, 0), -1) # -1實心\n",
    "cv2.imshow('My Image', img)\n",
    "cv2.waitKey(0)\n",
    "cv2.destroyAllWindows()"
   ]
  },
  {
   "cell_type": "code",
   "execution_count": 27,
   "metadata": {},
   "outputs": [],
   "source": [
    "import numpy as np\n",
    "import cv2\n",
    "\n",
    "img = np.zeros((256, 256, 3), np.uint8)\n",
    "img.fill(200)\n",
    "\n",
    "cv2.line(img, (0, 0), (255, 255), (0, 0, 255), 5)\n",
    "cv2.rectangle(img, (20, 60), (120, 160), (0, 255, 0), 2)\n",
    "cv2.rectangle(img, (40, 80), (100, 140), (0, 255, 0), -1)\n",
    "\n",
    "# 黃色圓圈，線條寬度為 3 px\n",
    "#               座標點    半徑   顏色       粗度\n",
    "cv2.circle(img,(90, 210), 30, (0, 255, 255), 3)\n",
    "\n",
    "# 藍色實心圓圈\n",
    "cv2.circle(img,(140, 170), 15, (255, 0, 0), -1)\n",
    "\n",
    "cv2.imshow('My Image', img)\n",
    "cv2.waitKey(0)\n",
    "cv2.destroyAllWindows()"
   ]
  },
  {
   "cell_type": "code",
   "execution_count": 35,
   "metadata": {},
   "outputs": [
    {
     "name": "stdout",
     "output_type": "stream",
     "text": [
      "原本的 (4, 2)\n",
      "reshape之後的 (4, 1, 2)\n"
     ]
    }
   ],
   "source": [
    "import numpy as np\n",
    "import cv2\n",
    "\n",
    "img = np.zeros((256, 256, 3), np.uint8)\n",
    "img.fill(200)\n",
    "\n",
    "# 設定多邊形頂點座標\n",
    "pts = np.array([[170, 55], [165, 75], [220, 80], [200, 60]], np.int32)\n",
    "#可以看出這是一個4*2=8的矩陣 \n",
    "print(\"原本的\",pts.shape)\n",
    "\n",
    "\n",
    "# 將座標轉為 (頂點數量, 1, 2) 的陣列\n",
    "pts = pts.reshape((-1, 1, 2)) # reshape 的-1 是讓numpy自己算的意思\n",
    "# x*1*2=8 所以x=4 也就是-1=4\n",
    "print(\"reshape之後的\",pts.shape)\n",
    "\n",
    "\n",
    "# 繪製多邊形            連線成一圈   顏色      粗度\n",
    "cv2.polylines(img, [pts], True, (255, 255, 0), 4)\n",
    "\n",
    "cv2.imshow('My Image', img)\n",
    "cv2.waitKey(0)\n",
    "cv2.destroyAllWindows()"
   ]
  },
  {
   "cell_type": "markdown",
   "metadata": {},
   "source": [
    "# 文字字型\n",
    "### cv2.putText(影像, 輸出文字, 文字座標, 字型, 字元大小, 文字顏色, 線條寬度, 線條種類)\n",
    "- FONT_HERSHEY_SIMPLEX：正常大小無襯線字體、\n",
    "- FONT_HERSHEY_PLAIN：小號無襯線字體、\n",
    "- FONT_HERSHEY_DUPLEX：正常大小無襯線字體，比FONT_HERSHEY_SIMPLEX複雜一點、\n",
    "- FONT_HERSHEY_COMPLEX：正常大小有襯線字體、\n",
    "- FONT_HERSHEY_TRIPLEX：正常大小有襯線字體，比FONT_HERSHEY_COMPLEX複雜一點、\n",
    "- FONT_HERSHEY_COMPLEX_SMALL：FONT_HERSHEY_COMPLEX的小號、\n",
    "- FONT_HERSHEY_SCRIPT_SIMPLEX：手寫風格細體、\n",
    "- FONT_HERSHEY_SCRIPT_COMPLEX：手寫風格粗體"
   ]
  },
  {
   "cell_type": "code",
   "execution_count": 39,
   "metadata": {},
   "outputs": [],
   "source": [
    "import numpy as np\n",
    "import cv2\n",
    "\n",
    "img = np.zeros((400, 400, 3), np.uint8) #圖片大小\n",
    "img.fill(90) #用深灰填滿\n",
    "\n",
    "# 文字\n",
    "text = 'Hello, OpenCV!'\n",
    "\n",
    "# 使用各種字體  \n",
    "#                        座標               字型          大小   顏色BGR    粗度   線條種類\n",
    "cv2.putText(img, text, (10, 40), cv2.FONT_HERSHEY_SIMPLEX, 2, (0, 255, 0), 5, cv2.LINE_AA)\n",
    "\n",
    "cv2.putText(img, text, (10, 80), cv2.FONT_HERSHEY_PLAIN, 1, (0, 255, 255), 1, cv2.LINE_AA)\n",
    "\n",
    "cv2.putText(img, text, (10, 120), cv2.FONT_HERSHEY_DUPLEX, 1, (0, 255, 255), 1, cv2.LINE_AA)\n",
    "\n",
    "cv2.putText(img, text, (10, 160), cv2.FONT_HERSHEY_COMPLEX, 1, (0, 255, 255), 1, cv2.LINE_AA)\n",
    "\n",
    "cv2.putText(img, text, (10, 200), cv2.FONT_HERSHEY_TRIPLEX, 1, (0, 255, 255), 1, cv2.LINE_AA)\n",
    "\n",
    "cv2.putText(img, text, (10, 240), cv2.FONT_HERSHEY_COMPLEX_SMALL, 1, (0, 255, 255), 1, cv2.LINE_AA)\n",
    "\n",
    "cv2.putText(img, text, (10, 280), cv2.FONT_HERSHEY_SCRIPT_SIMPLEX, 1, (0, 255, 255), 1, cv2.LINE_AA)\n",
    "\n",
    "cv2.putText(img, text, (10, 320), cv2.FONT_HERSHEY_SCRIPT_COMPLEX, 1, (0, 255, 255), 1, cv2.LINE_AA)\n",
    "\n",
    "cv2.imshow('My Image', img)\n",
    "cv2.waitKey(0)\n",
    "cv2.destroyAllWindows()"
   ]
  },
  {
   "cell_type": "markdown",
   "metadata": {},
   "source": [
    "# mouse event 滑鼠畫畫\n",
    "- cv2.EVENT_MOUSEMOVE\t滑鼠移動\n",
    "- cv2.EVENT_LBUTTONDOWN\t左鍵點選\n",
    "- cv2.EVENT_RBUTTONDOWN\t右鍵點選\n",
    "- cv2.EVENT_MBUTTONDOWN\t中間點選\n",
    "- cv2.EVENT_LBUTTONUP 左鍵釋放\n",
    "- cv2.EVENT_RBUTTONUP\t右鍵釋放\n",
    "- cv2.EVENT_MBUTTONUP\t中間釋放\n",
    "- cv2.EVENT_LBUTTONDBLCLK\t左鍵雙擊\n",
    "- cv2.EVENT_RBUTTONDBLCLK\t右鍵雙擊\n",
    "- cv2.EVENT_MBUTTONDBLCLK\t中間雙擊\n"
   ]
  },
  {
   "cell_type": "code",
   "execution_count": 1,
   "metadata": {},
   "outputs": [],
   "source": [
    "import numpy as np\n",
    "import cv2 as cv\n",
    "# 滑鼠回撥函式\n",
    "def draw_circle(event,x,y,flags,param): #draw_circle 是畫圖，不是只畫圓\n",
    "    if event == cv.EVENT_LBUTTONDBLCLK:     #點兩下繪畫圓\n",
    "        cv.circle(img,(x,y),100,(255,0,0),-1) # 顏色BGR -1實心\n",
    "        \n",
    "# 建立一個黑色的影象，一個視窗，並繫結到視窗的功能\n",
    "img = np.zeros((512,512,3), np.uint8)\n",
    "cv.namedWindow('image')\n",
    "cv.setMouseCallback('image',draw_circle)\n",
    "while(1):   #無限迴圈\n",
    "    cv.imshow('image',img)\n",
    "    if cv.waitKey(20) & 0xFF == 27:       #按ESC 觸發離開的意思\n",
    "        break\n",
    "cv.destroyAllWindows()"
   ]
  },
  {
   "cell_type": "code",
   "execution_count": 2,
   "metadata": {},
   "outputs": [],
   "source": [
    "import numpy as np\n",
    "import cv2 as cv\n",
    "drawing = False # 如果按下滑鼠，則為真\n",
    "mode = True # 如果為真，繪製矩形。按 m 鍵可以切換到曲線\n",
    "ix,iy = -1,-1\n",
    "# 滑鼠回撥函式\n",
    "def draw_circle(event,x,y,flags,param):   # draw_circle 是畫圖的意思\n",
    "    global ix,iy,drawing,mode  #全域變數\n",
    "    if event == cv.EVENT_LBUTTONDOWN:\n",
    "        drawing = True\n",
    "        ix,iy = x,y\n",
    "    elif event == cv.EVENT_MOUSEMOVE:\n",
    "        if drawing == True:\n",
    "            if mode == True:\n",
    "                cv.rectangle(img,(ix,iy),(x,y),(0,255,0),-1) #長方形\n",
    "            else:\n",
    "                cv.circle(img,(x,y),5,(0,0,255),-1)\n",
    "    elif event == cv.EVENT_LBUTTONUP:\n",
    "        drawing = False\n",
    "        if mode == True:\n",
    "            cv.rectangle(img,(ix,iy),(x,y),(0,255,0),-1)\n",
    "        else:\n",
    "            cv.circle(img,(x,y),5,(0,0,255),-1)\n",
    "            \n",
    "img = np.zeros((512,512,3), np.uint8)\n",
    "cv.namedWindow('image')\n",
    "cv.setMouseCallback('image',draw_circle)\n",
    "while(1):\n",
    "    cv.imshow('image',img)\n",
    "    if cv.waitKey(20) & 0xFF == 27:\n",
    "        break\n",
    "cv.destroyAllWindows()"
   ]
  },
  {
   "cell_type": "code",
   "execution_count": 12,
   "metadata": {},
   "outputs": [
    {
     "name": "stdout",
     "output_type": "stream",
     "text": [
      "x:498, y:226\n",
      "x:488, y:226\n",
      "x:476, y:226\n",
      "x:464, y:226\n",
      "x:452, y:226\n",
      "x:441, y:226\n",
      "x:431, y:226\n",
      "x:423, y:226\n",
      "x:415, y:226\n",
      "x:409, y:226\n",
      "x:404, y:226\n",
      "x:400, y:226\n",
      "x:397, y:226\n",
      "x:394, y:226\n",
      "x:392, y:226\n",
      "x:391, y:226\n",
      "x:390, y:226\n",
      "x:389, y:226\n",
      "x:388, y:226\n",
      "x:387, y:226\n",
      "x:386, y:226\n",
      "x:386, y:226\n",
      "x:385, y:226\n",
      "x:385, y:226\n",
      "x:384, y:226\n",
      "x:383, y:227\n",
      "x:383, y:227\n",
      "x:382, y:227\n",
      "x:381, y:227\n",
      "x:380, y:227\n",
      "x:379, y:227\n",
      "x:379, y:227\n",
      "x:380, y:227\n",
      "x:382, y:227\n",
      "x:384, y:228\n",
      "x:391, y:228\n",
      "x:405, y:229\n",
      "x:426, y:231\n",
      "x:453, y:233\n",
      "x:484, y:236\n",
      "x:495, y:349\n",
      "x:482, y:340\n",
      "x:464, y:329\n",
      "x:442, y:317\n",
      "x:418, y:302\n",
      "x:392, y:289\n",
      "x:369, y:278\n",
      "x:346, y:268\n",
      "x:329, y:261\n",
      "x:314, y:255\n",
      "x:303, y:252\n",
      "x:295, y:248\n",
      "x:289, y:247\n",
      "x:287, y:247\n",
      "x:287, y:247\n",
      "x:288, y:247\n",
      "x:289, y:247\n",
      "x:290, y:247\n",
      "x:293, y:247\n",
      "x:297, y:247\n",
      "x:300, y:247\n",
      "x:306, y:248\n",
      "x:315, y:250\n",
      "x:327, y:254\n",
      "x:341, y:258\n",
      "x:358, y:263\n",
      "x:377, y:269\n",
      "x:402, y:277\n",
      "x:432, y:287\n",
      "x:465, y:297\n",
      "x:481, y:321\n",
      "x:455, y:306\n",
      "x:428, y:291\n",
      "x:402, y:276\n",
      "x:380, y:262\n",
      "x:361, y:251\n",
      "x:350, y:243\n",
      "x:340, y:236\n",
      "x:332, y:231\n",
      "x:324, y:226\n",
      "x:316, y:220\n",
      "x:307, y:216\n",
      "x:299, y:212\n",
      "x:289, y:208\n",
      "x:279, y:205\n",
      "x:270, y:202\n",
      "x:260, y:199\n",
      "x:250, y:196\n",
      "x:241, y:192\n",
      "x:232, y:189\n",
      "x:225, y:186\n",
      "x:219, y:183\n",
      "x:216, y:182\n",
      "x:214, y:180\n",
      "x:214, y:180\n",
      "x:213, y:179\n",
      "x:213, y:178\n",
      "x:214, y:178\n",
      "x:214, y:178\n",
      "x:216, y:178\n",
      "x:218, y:179\n",
      "x:221, y:180\n",
      "x:223, y:181\n",
      "x:227, y:182\n",
      "x:233, y:184\n",
      "x:240, y:186\n",
      "x:250, y:190\n",
      "x:261, y:193\n",
      "x:274, y:196\n",
      "x:290, y:201\n",
      "x:309, y:206\n",
      "x:331, y:214\n",
      "x:356, y:222\n",
      "x:383, y:230\n",
      "x:416, y:240\n",
      "x:452, y:253\n",
      "x:487, y:263\n",
      "x:497, y:210\n",
      "x:474, y:175\n",
      "x:456, y:141\n",
      "x:443, y:110\n",
      "x:431, y:82\n",
      "x:422, y:59\n",
      "x:416, y:40\n",
      "x:413, y:26\n",
      "x:412, y:17\n",
      "x:411, y:9\n",
      "x:412, y:3\n"
     ]
    }
   ],
   "source": [
    "import cv2\n",
    "img= cv2.imread('./images/cat.jpg')          #定義圖片位置\n",
    "img= cv2.cvtColor(img, cv2.COLOR_BGR2GRAY)  #轉化為灰度圖\n",
    "\n",
    "def onmouse(event, x, y, flags, param):   #標準滑鼠互動函式\n",
    "    if event==cv2.EVENT_MOUSEMOVE:      #當滑鼠移動時\n",
    "        print(\"x:{}, y:{}\".format(x, y))   #顯示滑鼠所在畫素的座標，注意畫素表示方法和座標位置的不同\n",
    "\n",
    "cv2.namedWindow(\"img\")          #構建視窗\n",
    "cv2.setMouseCallback(\"img\", onmouse)   #回撥繫結視窗\n",
    "\n",
    "while True:              \n",
    "    cv2.imshow(\"img\",img)        #顯示影象\n",
    "    if cv2.waitKey() == ord('q'):\n",
    "        break  #按下‘q'鍵，退出\n",
    "\n",
    "cv2.destroyAllWindows()   "
   ]
  },
  {
   "cell_type": "code",
   "execution_count": null,
   "metadata": {},
   "outputs": [],
   "source": []
  }
 ],
 "metadata": {
  "kernelspec": {
   "display_name": "Python 3",
   "language": "python",
   "name": "python3"
  },
  "language_info": {
   "codemirror_mode": {
    "name": "ipython",
    "version": 3
   },
   "file_extension": ".py",
   "mimetype": "text/x-python",
   "name": "python",
   "nbconvert_exporter": "python",
   "pygments_lexer": "ipython3",
   "version": "3.7.9"
  }
 },
 "nbformat": 4,
 "nbformat_minor": 2
}
