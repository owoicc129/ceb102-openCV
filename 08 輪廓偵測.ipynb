{
 "cells": [
  {
   "cell_type": "markdown",
   "metadata": {},
   "source": [
    "# cv2.findContours 找輪廓\n",
    "第二个参数表示轮廓的检索模式，有四种\n",
    "- cv2.RETR_EXTERNAL 只检测外轮廓\n",
    "- cv2.RETR_LIST 检测的轮廓不建立等级关系\n",
    "- cv2.RETR_CCOMP 建立两个等级的轮廓，上面的一层为外边界，里面的一层为内孔的边界信息。如果内孔内还有一个连通物体，这个物体的边界也在顶层。\n",
    "- cv2.RETR_TREE 建立一个等级树结构的轮廓。\n",
    "\n",
    "第三个参数method为轮廓的近似办法\n",
    "- cv2.CHAIN_APPROX_NONE 存储所有的轮廓点，相邻的两个点的像素位置差不超过1，即max（abs（x1-x2），abs（y2-y1））==1\n",
    "- cv2.CHAIN_APPROX_SIMPLE 压缩水平方向，垂直方向，对角线方向的元素，只保留该方向的终点坐标，例如一个矩形轮廓只需4个点来保存轮廓信息\n",
    "- cv2.CHAIN_APPROX_TC89_L1，CV_CHAIN_APPROX_TC89_KCOS 使用teh-Chinl chain 近似算法"
   ]
  },
  {
   "cell_type": "code",
   "execution_count": 3,
   "metadata": {},
   "outputs": [
    {
     "name": "stdout",
     "output_type": "stream",
     "text": [
      "number fo contours 3\n",
      "first contour coordinate [[[ 79 270]]\n",
      "\n",
      " [[ 79 383]]\n",
      "\n",
      " [[195 383]]\n",
      "\n",
      " [[195 270]]]\n"
     ]
    }
   ],
   "source": [
    "import cv2\n",
    "o = cv2.imread('./images/contours.bmp')  \n",
    "cv2.imshow(\"original\",o)\n",
    "\n",
    "gray = cv2.cvtColor(o,cv2.COLOR_BGR2GRAY) #轉成灰階 \n",
    "ret, binary = cv2.threshold(gray,127,255,cv2.THRESH_BINARY) #超过127門檻部分取maxval（最大值），否则取0  \n",
    "contours, hierarchy = cv2.findContours(binary, cv2.RETR_EXTERNAL, cv2.CHAIN_APPROX_SIMPLE) \n",
    "\n",
    "# print(type(contours))  \n",
    "# print(type(contours[0]))  \n",
    "\n",
    "print('number fo contours {}'.format(len(contours))) #問有幾個輪廓\n",
    "print('first contour coordinate {}'.format(contours[0])) # 問第0個輪廓的點 有哪些\n",
    "\n",
    "#print(contours[1].shape)\n",
    "\n",
    "o=cv2.drawContours(o,contours,-1,(0,0,255),5)  #畫輪廓 \n",
    "\n",
    "cv2.imshow(\"result\",o)    \n",
    "cv2.waitKey()\n",
    "cv2.destroyAllWindows()"
   ]
  },
  {
   "cell_type": "code",
   "execution_count": 4,
   "metadata": {},
   "outputs": [],
   "source": [
    "import cv2\n",
    "import numpy as np\n",
    "o = cv2.imread('./images/contours.bmp')  \n",
    "cv2.imshow(\"original\",o)\n",
    "gray = cv2.cvtColor(o,cv2.COLOR_BGR2GRAY) #變灰階 \n",
    "ret, binary = cv2.threshold(gray,127,255,cv2.THRESH_BINARY)  \n",
    "contours, hierarchy = cv2.findContours(binary,\n",
    "                                             cv2.RETR_EXTERNAL,\n",
    "                                             cv2.CHAIN_APPROX_SIMPLE)  \n",
    "n=len(contours)\n",
    "contoursImg=[]\n",
    "for i in range(n): #有幾個輪廓 就做幾次\n",
    "    temp=np.zeros(o.shape,np.uint8)\n",
    "    contoursImg.append(temp)\n",
    "    contoursImg[i]=cv2.drawContours(contoursImg[i],contours,i,(255,255,255),5) \n",
    "    cv2.imshow(\"contours[\" + str(i)+\"]\",contoursImg[i])    \n",
    "cv2.waitKey()\n",
    "cv2.destroyAllWindows()"
   ]
  },
  {
   "cell_type": "code",
   "execution_count": 5,
   "metadata": {},
   "outputs": [],
   "source": [
    "import cv2\n",
    "import numpy as np\n",
    "o = cv2.imread('./images/loc3.jpg')\n",
    "cv2.imshow(\"original\",o)  \n",
    "gray = cv2.cvtColor(o,cv2.COLOR_BGR2GRAY)  \n",
    "ret, binary = cv2.threshold(gray,127,255,cv2.THRESH_BINARY)  \n",
    "contours, hierarchy = cv2.findContours(binary, cv2.RETR_LIST, cv2.CHAIN_APPROX_SIMPLE)  \n",
    "\n",
    "mask=np.zeros(o.shape,np.uint8) #跟原圖大小一樣的形狀 裡面塞0\n",
    "mask=cv2.drawContours(mask,contours,-1,(255,255,255),-1) # 顏色.粗度-1是實心\n",
    "\n",
    "cv2.imshow(\"mask\" ,mask)\n",
    "loc=cv2.bitwise_and(o,mask) \n",
    "\n",
    "cv2.imshow(\"location\" ,loc)\n",
    "cv2.waitKey()\n",
    "cv2.destroyAllWindows()"
   ]
  },
  {
   "cell_type": "markdown",
   "metadata": {},
   "source": [
    "- 算輪廓面積 cv2.contourArea"
   ]
  },
  {
   "cell_type": "code",
   "execution_count": 6,
   "metadata": {},
   "outputs": [
    {
     "name": "stdout",
     "output_type": "stream",
     "text": [
      "contours[0] 面積= 13108.0\n",
      "contours[1] 面積= 19535.0\n",
      "contours[2] 面積= 12058.0\n"
     ]
    }
   ],
   "source": [
    "import cv2\n",
    "import numpy as np\n",
    "o = cv2.imread('./images/contours.bmp')  \n",
    "gray = cv2.cvtColor(o,cv2.COLOR_BGR2GRAY)  \n",
    "ret, binary = cv2.threshold(gray,127,255,cv2.THRESH_BINARY)  \n",
    "contours, hierarchy = cv2.findContours(binary,\n",
    "                                             cv2.RETR_LIST,\n",
    "                                             cv2.CHAIN_APPROX_SIMPLE)  \n",
    "cv2.imshow(\"original\",o)\n",
    "n=len(contours)\n",
    "contoursImg=[]\n",
    "for i in range(n):\n",
    "    print(\"contours[\"+str(i)+\"] 面積=\",cv2.contourArea(contours[i])) #.contourArea算面積\n",
    "    temp=np.zeros(o.shape,np.uint8)\n",
    "    contoursImg.append(temp)\n",
    "    contoursImg[i]=cv2.drawContours(contoursImg[i],\n",
    "                                   contours,\n",
    "                                   i,\n",
    "                                   (255,255,255),\n",
    "                                   3)\n",
    "    cv2.imshow(\"contours[\" + str(i)+\"]\",contoursImg[i])   \n",
    "cv2.waitKey()\n",
    "cv2.destroyAllWindows()"
   ]
  },
  {
   "cell_type": "markdown",
   "metadata": {},
   "source": [
    "- 算輪廓長度 cv2.arcLength"
   ]
  },
  {
   "cell_type": "code",
   "execution_count": 7,
   "metadata": {},
   "outputs": [
    {
     "name": "stdout",
     "output_type": "stream",
     "text": [
      "第0个轮廓的长度:145\n",
      "第1个轮廓的长度:147\n",
      "第2个轮廓的长度:398\n",
      "第3个轮廓的长度:681\n",
      "第4个轮廓的长度:1004\n",
      "第5个轮廓的长度:398\n",
      "第6个轮廓的长度:681\n",
      "第7个轮廓的长度:1004\n",
      "第8个轮廓的长度:2225\n",
      "第9个轮廓的长度:2794\n",
      "各个轮廓的总长度为：9480\n",
      "各个轮廓的平均长度为：948\n"
     ]
    }
   ],
   "source": [
    "import cv2\n",
    "import numpy as np\n",
    "#--------------读取及显示原始图像--------------------\n",
    "o = cv2.imread('./images/contours0.bmp')  \n",
    "cv2.imshow(\"original\",o)\n",
    "\n",
    "#--------------获取轮廓--------------------\n",
    "gray = cv2.cvtColor(o,cv2.COLOR_BGR2GRAY)  \n",
    "ret, binary = cv2.threshold(gray,127,255,cv2.THRESH_BINARY)  \n",
    "contours, hierarchy = cv2.findContours(binary,\n",
    "                                             cv2.RETR_LIST,\n",
    "                                             cv2.CHAIN_APPROX_SIMPLE)  \n",
    "\n",
    "#--------------计算各个轮廓的长度和、平均长度--------------------\n",
    "n=len(contours)   #获取轮廓个数\n",
    "cntLen=[]           #存储各个轮廓的长度\n",
    "for i in range(n):\n",
    "    cntLen.append(cv2.arcLength(contours[i],True))\n",
    "    print(\"第\"+str(i)+\"个轮廓的长度:%d\"%cntLen[i])\n",
    "cntLenSum=np.sum(cntLen)  #各个轮廓长度和\n",
    "cntLenAvr=cntLenSum/n    #各个轮廓长度平均值\n",
    "print(\"各个轮廓的总长度为：%d\"%cntLenSum)\n",
    "print(\"各个轮廓的平均长度为：%d\"%cntLenAvr)\n",
    "\n",
    "#--------------显示超过平均值的轮廓--------------------\n",
    "contoursImg=[]\n",
    "for i in range(n):\n",
    "    temp=np.zeros(o.shape,np.uint8)\n",
    "    contoursImg.append(temp)\n",
    "    contoursImg[i]=cv2.drawContours(contoursImg[i],\n",
    "               contours,i,(255,255,255),3)\n",
    "    if cv2.arcLength(contours[i],True)>cntLenAvr:\n",
    "        cv2.imshow(\"contours[\" + str(i)+\"]\",contoursImg[i])  \n",
    "        \n",
    "cv2.waitKey()\n",
    "cv2.destroyAllWindows()"
   ]
  },
  {
   "cell_type": "markdown",
   "metadata": {},
   "source": [
    "# Moments(矩) 找質心的重心 算面積\n",
    "#### 跟.contourArea算出的面積一樣\n",
    "![image alt](./images/moments_theory.png)"
   ]
  },
  {
   "cell_type": "code",
   "execution_count": 8,
   "metadata": {},
   "outputs": [
    {
     "name": "stdout",
     "output_type": "stream",
     "text": [
      "观察各个轮廓的矩（moments）:\n",
      "轮廓0的矩:\n",
      " {'m00': 14900.0, 'm10': 1996600.0, 'm01': 7800150.0, 'm20': 279961066.6666666, 'm11': 1045220100.0, 'm02': 4110944766.6666665, 'm30': 40842449600.0, 'm21': 146559618400.0, 'm12': 550866598733.3334, 'm03': 2180941440375.0, 'mu20': 12416666.666666627, 'mu11': 0.0, 'mu02': 27566241.666666508, 'mu30': 1.52587890625e-05, 'mu21': 2.09808349609375e-05, 'mu12': 6.198883056640625e-05, 'mu03': 0.000244140625, 'nu20': 0.05592841163310942, 'nu11': 0.0, 'nu02': 0.12416666666666591, 'nu30': 5.630596400372416e-16, 'nu21': 7.742070050512072e-16, 'nu12': 2.2874297876512943e-15, 'nu03': 9.008954240595866e-15}\n",
      "轮廓1的矩:\n",
      " {'m00': 34314.0, 'm10': 13313832.0, 'm01': 9728019.0, 'm20': 5356106574.0, 'm11': 3774471372.0, 'm02': 2808475082.0, 'm30': 2225873002920.0, 'm21': 1518456213729.0, 'm12': 1089688331816.0, 'm03': 824882507095.5, 'mu20': 190339758.0, 'mu11': 0.0, 'mu02': 50581695.5, 'mu30': 0.0, 'mu21': 0.0, 'mu12': 0.0, 'mu03': 0.0, 'nu20': 0.16165413533834588, 'nu11': 0.0, 'nu02': 0.042958656330749356, 'nu30': 0.0, 'nu21': 0.0, 'nu12': 0.0, 'nu03': 0.0}\n",
      "轮廓2的矩:\n",
      " {'m00': 3900.0, 'm10': 2696850.0, 'm01': 273000.0, 'm20': 1866699900.0, 'm11': 188779500.0, 'm02': 19988800.0, 'm30': 1293351277725.0, 'm21': 130668993000.0, 'm12': 13822255200.0, 'm03': 1522248000.0, 'mu20': 1828125.0, 'mu11': 0.0, 'mu02': 878800.0, 'mu30': 0.0, 'mu21': 0.0, 'mu12': 0.0, 'mu03': 0.0, 'nu20': 0.1201923076923077, 'nu11': 0.0, 'nu02': 0.05777777777777778, 'nu30': 0.0, 'nu21': 0.0, 'nu12': 0.0, 'nu03': 0.0}\n",
      "观察各个轮廓的面积:\n",
      "轮廓0的面积:14900\n",
      "轮廓1的面积:34314\n",
      "轮廓2的面积:3900\n"
     ]
    }
   ],
   "source": [
    "import cv2\n",
    "import numpy as np\n",
    "o = cv2.imread('./images/moments.bmp') \n",
    "cv2.imshow(\"original\",o)\n",
    "\n",
    "gray = cv2.cvtColor(o,cv2.COLOR_BGR2GRAY)  \n",
    "ret, binary = cv2.threshold(gray,127,255,cv2.THRESH_BINARY)  \n",
    "contours, hierarchy = cv2.findContours(binary, cv2.RETR_LIST, cv2.CHAIN_APPROX_SIMPLE)  \n",
    "\n",
    "n=len(contours)\n",
    "contoursImg=[]\n",
    "for i in range(n):\n",
    "    temp=np.zeros(o.shape,np.uint8)\n",
    "    contoursImg.append(temp)\n",
    "    contoursImg[i]=cv2.drawContours(contoursImg[i],contours,i,255,3) \n",
    "    cv2.imshow(\"contours[\" + str(i)+\"]\",contoursImg[i]) \n",
    "    \n",
    "    \n",
    "print(\"观察各个轮廓的矩（moments）:\")\n",
    "for i in range(n):\n",
    "    print(\"轮廓\"+str(i)+\"的矩:\\n\",cv2.moments(contours[i]))\n",
    "    \n",
    "    \n",
    "print(\"观察各个轮廓的面积:\")\n",
    "for i in range(n):\n",
    "    print(\"轮廓\"+str(i)+\"的面积:%d\" %cv2.moments(contours[i])['m00'])\n",
    "    \n",
    "cv2.waitKey()\n",
    "cv2.destroyAllWindows()"
   ]
  },
  {
   "cell_type": "markdown",
   "metadata": {},
   "source": [
    "# Hu moment \n",
    "## 適合用來辨識照片裡的東西一不一樣 (S算出的數據幾乎都相同，代表他們很相似)"
   ]
  },
  {
   "cell_type": "markdown",
   "metadata": {},
   "source": [
    "![image alt](./images/hu_theory.png)"
   ]
  },
  {
   "cell_type": "markdown",
   "metadata": {},
   "source": [
    "![image alt](./images/hu.png)"
   ]
  },
  {
   "cell_type": "markdown",
   "metadata": {},
   "source": [
    "### matchShapes"
   ]
  },
  {
   "cell_type": "code",
   "execution_count": 9,
   "metadata": {
    "scrolled": true
   },
   "outputs": [
    {
     "name": "stdout",
     "output_type": "stream",
     "text": [
      "o1.shape= (425, 514, 3)\n",
      "o2.shape= (42, 51, 3)\n",
      "o3.shape= (425, 514, 3)\n",
      "相同图像的matchShape= 0.0\n",
      "相似图像的matchShape= 0.0001154058519395873\n",
      "不相似图像的matchShape= 0.012935752303635195\n"
     ]
    }
   ],
   "source": [
    "import cv2\n",
    "#--------------读取3幅原始图像--------------------\n",
    "o1 = cv2.imread('./images/cs1.bmp')\n",
    "o2 = cv2.imread('./images/cs2.bmp')\n",
    "o3 = cv2.imread('./images/cc.bmp') \n",
    "\n",
    "#----------打印3幅原始图像的shape属性值-------------\n",
    "print(\"o1.shape=\",o1.shape)\n",
    "print(\"o2.shape=\",o2.shape)\n",
    "print(\"o3.shape=\",o3.shape)\n",
    "\n",
    "#--------------色彩空间转换-------------------- \n",
    "gray1 = cv2.cvtColor(o1,cv2.COLOR_BGR2GRAY) \n",
    "gray2 = cv2.cvtColor(o2,cv2.COLOR_BGR2GRAY) \n",
    "gray3 = cv2.cvtColor(o3,cv2.COLOR_BGR2GRAY) \n",
    "\n",
    "#-------------进行Hu矩匹配--------------------\n",
    "ret0 = cv2.matchShapes(gray1,gray1,1,0.0) #(照片1,照片2)用hu moment算相似度\n",
    "ret1 = cv2.matchShapes(gray1,gray2,1,0.0)\n",
    "ret2 = cv2.matchShapes(gray1,gray3,1,0.0)\n",
    "\n",
    "#--------------打印差值--------------------\n",
    "print(\"相同图像的matchShape=\",ret0)  # 0 代表完全相同\n",
    "print(\"相似图像的matchShape=\",ret1)  # 越接近0  代表越相似\n",
    "print(\"不相似图像的matchShape=\",ret2)\n",
    "\n",
    "#--------------显示3幅原始图像--------------------\n",
    "cv2.imshow(\"original1\",o1)\n",
    "cv2.imshow(\"original2\",o2)\n",
    "cv2.imshow(\"original3\",o3)\n",
    "cv2.waitKey()\n",
    "cv2.destroyAllWindows()"
   ]
  },
  {
   "cell_type": "markdown",
   "metadata": {},
   "source": [
    "# ref  把物體用框框匡出來 用成灰階算輪廓 抓重心\n",
    "https://chtseng.wordpress.com/2016/12/05/opencv-contour%E8%BC%AA%E5%BB%93/"
   ]
  },
  {
   "cell_type": "code",
   "execution_count": 10,
   "metadata": {},
   "outputs": [],
   "source": [
    "import cv2\n",
    "import numpy as np\n",
    "\n",
    "o = cv2.imread('./images/stuff.jpg')\n",
    "cv2.imshow(\"original\",o)  \n",
    "cv2.waitKey()\n",
    "cv2.destroyAllWindows()"
   ]
  },
  {
   "cell_type": "code",
   "execution_count": null,
   "metadata": {},
   "outputs": [],
   "source": []
  }
 ],
 "metadata": {
  "kernelspec": {
   "display_name": "Python 3",
   "language": "python",
   "name": "python3"
  },
  "language_info": {
   "codemirror_mode": {
    "name": "ipython",
    "version": 3
   },
   "file_extension": ".py",
   "mimetype": "text/x-python",
   "name": "python",
   "nbconvert_exporter": "python",
   "pygments_lexer": "ipython3",
   "version": "3.7.9"
  }
 },
 "nbformat": 4,
 "nbformat_minor": 4
}
