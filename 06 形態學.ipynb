{
 "cells": [
  {
   "cell_type": "markdown",
   "metadata": {},
   "source": [
    "## Erode  侵蝕 (內壁)"
   ]
  },
  {
   "cell_type": "code",
   "execution_count": 4,
   "metadata": {},
   "outputs": [
    {
     "name": "stdout",
     "output_type": "stream",
     "text": [
      "img=\n",
      " [[0 0 0 0 0]\n",
      " [0 1 1 1 0]\n",
      " [0 1 1 1 0]\n",
      " [0 1 1 1 0]\n",
      " [0 0 0 0 0]]\n",
      "kernel=\n",
      " [[1]\n",
      " [1]\n",
      " [1]]\n",
      "erosion=\n",
      " [[0 0 0 0 0]\n",
      " [0 0 0 0 0]\n",
      " [0 1 1 1 0]\n",
      " [0 0 0 0 0]\n",
      " [0 0 0 0 0]]\n"
     ]
    }
   ],
   "source": [
    "import cv2\n",
    "import numpy as np\n",
    "img=np.zeros((5,5),np.uint8)\n",
    "img[1:4,1:4]=1\n",
    "kernel = np.ones((3,1),np.uint8)\n",
    "erosion = cv2.erode(img,kernel)\n",
    "print(\"img=\\n\",img)\n",
    "print(\"kernel=\\n\",kernel)\n",
    "print(\"erosion=\\n\",erosion)"
   ]
  },
  {
   "cell_type": "code",
   "execution_count": 5,
   "metadata": {},
   "outputs": [],
   "source": [
    "import cv2\n",
    "import numpy as np\n",
    "o=cv2.imread(\"./images/erode.bmp\",cv2.IMREAD_UNCHANGED)\n",
    "kernel = np.ones((5,5),np.uint8) #5*5 都是1的\n",
    "erosion = cv2.erode(o,kernel) \n",
    "\n",
    "cv2.imshow(\"orriginal\",o)\n",
    "cv2.imshow(\"erosion\",erosion)\n",
    "cv2.waitKey()\n",
    "cv2.destroyAllWindows()"
   ]
  },
  {
   "cell_type": "code",
   "execution_count": 2,
   "metadata": {},
   "outputs": [],
   "source": [
    "import cv2\n",
    "import numpy as np\n",
    "o=cv2.imread(\"./images/erode.bmp\",cv2.IMREAD_UNCHANGED)\n",
    "kernel = np.ones((9,9),np.uint8)\n",
    "erosion = cv2.erode(o,kernel,iterations =5) #侵蝕5次\n",
    "cv2.imshow(\"orriginal\",o)\n",
    "cv2.imshow(\"erosion\",erosion)\n",
    "cv2.waitKey()\n",
    "cv2.destroyAllWindows()"
   ]
  },
  {
   "cell_type": "markdown",
   "metadata": {},
   "source": [
    "## Dilate 膨脹(外壁)"
   ]
  },
  {
   "cell_type": "code",
   "execution_count": 6,
   "metadata": {},
   "outputs": [
    {
     "name": "stdout",
     "output_type": "stream",
     "text": [
      "img=\n",
      " [[0 0 0 0 0]\n",
      " [0 0 0 0 0]\n",
      " [0 1 1 1 0]\n",
      " [0 0 0 0 0]\n",
      " [0 0 0 0 0]]\n",
      "kernel=\n",
      " [[1]\n",
      " [1]\n",
      " [1]]\n",
      "dilation\n",
      " [[0 0 0 0 0]\n",
      " [0 1 1 1 0]\n",
      " [0 1 1 1 0]\n",
      " [0 1 1 1 0]\n",
      " [0 0 0 0 0]]\n"
     ]
    }
   ],
   "source": [
    "import cv2\n",
    "import numpy as np\n",
    "img=np.zeros((5,5),np.uint8)\n",
    "img[2:3,1:4]=1\n",
    "kernel = np.ones((3,1),np.uint8)  #正中心的1 對在img的1 滑\n",
    "dilation = cv2.dilate(img,kernel)\n",
    "print(\"img=\\n\",img)\n",
    "print(\"kernel=\\n\",kernel)\n",
    "print(\"dilation\\n\",dilation)"
   ]
  },
  {
   "cell_type": "code",
   "execution_count": 6,
   "metadata": {},
   "outputs": [],
   "source": [
    "import cv2\n",
    "import numpy as np\n",
    "o=cv2.imread(\"./images/dilation.bmp\",cv2.IMREAD_UNCHANGED)\n",
    "kernel = np.ones((9,9),np.uint8)\n",
    "dilation = cv2.dilate(o,kernel)\n",
    "cv2.imshow(\"original\",o)\n",
    "cv2.imshow(\"dilation\",dilation)\n",
    "cv2.waitKey()\n",
    "cv2.destroyAllWindows()"
   ]
  },
  {
   "cell_type": "code",
   "execution_count": 7,
   "metadata": {},
   "outputs": [],
   "source": [
    "import cv2\n",
    "import numpy as np\n",
    "o=cv2.imread(\"./images/dilation.bmp\",cv2.IMREAD_UNCHANGED)\n",
    "kernel = np.ones((5,5),np.uint8)\n",
    "dilation = cv2.dilate(o,kernel,iterations = 9) #iterations疊代 膨脹9次\n",
    "cv2.imshow(\"original\",o)\n",
    "cv2.imshow(\"dilation\", dilation)\n",
    "cv2.waitKey()\n",
    "cv2.destroyAllWindows()"
   ]
  },
  {
   "cell_type": "markdown",
   "metadata": {},
   "source": [
    "## Open (開運算) 先侵蝕 再膨脹 圖就不會變小"
   ]
  },
  {
   "cell_type": "code",
   "execution_count": 8,
   "metadata": {},
   "outputs": [],
   "source": [
    "import cv2\n",
    "import numpy as np\n",
    "img1=cv2.imread(\"./images/opening.bmp\")\n",
    "img2=cv2.imread(\"./images/opening2.bmp\")\n",
    "\n",
    "k=np.ones((10,10),np.uint8)\n",
    "r1=cv2.morphologyEx(img1,cv2.MORPH_OPEN,k)\n",
    "r2=cv2.morphologyEx(img2,cv2.MORPH_OPEN,k)\n",
    "\n",
    "cv2.imshow(\"img1\",img1)\n",
    "cv2.imshow(\"result1\",r1) # 去掉毛邊 但又補回粗度\n",
    "cv2.imshow(\"img2\",img2)\n",
    "cv2.imshow(\"result2\",r2)\n",
    "cv2.waitKey()\n",
    "cv2.destroyAllWindows()"
   ]
  },
  {
   "cell_type": "markdown",
   "metadata": {},
   "source": [
    "## Close (閉運算) 先膨脹再侵蝕 可遮掉裡面的缺點"
   ]
  },
  {
   "cell_type": "code",
   "execution_count": 9,
   "metadata": {},
   "outputs": [],
   "source": [
    "import cv2\n",
    "import numpy as np\n",
    "img1=cv2.imread(\"./images/closing.bmp\")\n",
    "img2=cv2.imread(\"./images/closing2.bmp\")\n",
    "\n",
    "k=np.ones((10,10),np.uint8)\n",
    "r1=cv2.morphologyEx(img1,cv2.MORPH_CLOSE,k,iterations=3)\n",
    "r2=cv2.morphologyEx(img2,cv2.MORPH_CLOSE,k,iterations=3)\n",
    "\n",
    "cv2.imshow(\"img1\",img1)\n",
    "cv2.imshow(\"result1\",r1)\n",
    "cv2.imshow(\"img2\",img2)\n",
    "cv2.imshow(\"result2\",r2)\n",
    "cv2.waitKey()\n",
    "cv2.destroyAllWindows()"
   ]
  },
  {
   "cell_type": "markdown",
   "metadata": {},
   "source": [
    "## Gradient 留邊"
   ]
  },
  {
   "cell_type": "code",
   "execution_count": 10,
   "metadata": {},
   "outputs": [],
   "source": [
    "import cv2\n",
    "import numpy as np\n",
    "o=cv2.imread(\"./images/gradient.bmp\",cv2.IMREAD_UNCHANGED)\n",
    "\n",
    "k=np.ones((5,5),np.uint8)\n",
    "r=cv2.morphologyEx(o,cv2.MORPH_GRADIENT,k)\n",
    "\n",
    "cv2.imshow(\"original\",o)\n",
    "cv2.imshow(\"result\",r)\n",
    "cv2.waitKey()\n",
    "cv2.destroyAllWindows()"
   ]
  },
  {
   "cell_type": "markdown",
   "metadata": {},
   "source": [
    "## Tophat 原始照片 減掉 開運算照片"
   ]
  },
  {
   "cell_type": "code",
   "execution_count": 11,
   "metadata": {},
   "outputs": [],
   "source": [
    "import cv2\n",
    "import numpy as np\n",
    "o1=cv2.imread(\"./images/tophat.bmp\",cv2.IMREAD_UNCHANGED)\n",
    "o2=cv2.imread(\"./images/lena.bmp\",cv2.IMREAD_UNCHANGED)\n",
    "\n",
    "k=np.ones((5,5),np.uint8)\n",
    "r1=cv2.morphologyEx(o1,cv2.MORPH_TOPHAT,k)\n",
    "r2=cv2.morphologyEx(o2,cv2.MORPH_TOPHAT,k)\n",
    "\n",
    "cv2.imshow(\"original1\",o1)\n",
    "cv2.imshow(\"original2\",o2)\n",
    "cv2.imshow(\"result1\",r1)\n",
    "cv2.imshow(\"result2\",r2)\n",
    "cv2.waitKey()\n",
    "cv2.destroyAllWindows()"
   ]
  },
  {
   "cell_type": "markdown",
   "metadata": {},
   "source": [
    "## Blackhat 原始照片 減掉 閉運算"
   ]
  },
  {
   "cell_type": "code",
   "execution_count": 12,
   "metadata": {},
   "outputs": [],
   "source": [
    "import cv2\n",
    "import numpy as np\n",
    "o1=cv2.imread(\"./images/blackhat.bmp\",cv2.IMREAD_UNCHANGED)\n",
    "o2=cv2.imread(\"./images/lena.bmp\",cv2.IMREAD_UNCHANGED)\n",
    "k=np.ones((5,5),np.uint8)\n",
    "r1=cv2.morphologyEx(o1,cv2.MORPH_BLACKHAT,k)\n",
    "r2=cv2.morphologyEx(o2,cv2.MORPH_BLACKHAT,k)\n",
    "cv2.imshow(\"original1\",o1)\n",
    "cv2.imshow(\"original2\",o2)\n",
    "cv2.imshow(\"result1\",r1)\n",
    "cv2.imshow(\"result2\",r2)\n",
    "cv2.waitKey()\n",
    "cv2.destroyAllWindows()"
   ]
  },
  {
   "cell_type": "markdown",
   "metadata": {},
   "source": [
    "## Define Own Kernel  自定義 kernel"
   ]
  },
  {
   "cell_type": "code",
   "execution_count": 21,
   "metadata": {},
   "outputs": [
    {
     "name": "stdout",
     "output_type": "stream",
     "text": [
      "kernel1=\n",
      " [[1 1 1 1 1]\n",
      " [1 1 1 1 1]\n",
      " [1 1 1 1 1]\n",
      " [1 1 1 1 1]\n",
      " [1 1 1 1 1]]\n",
      "kernel2=\n",
      " [[0 0 1 0 0]\n",
      " [0 0 1 0 0]\n",
      " [1 1 1 1 1]\n",
      " [0 0 1 0 0]\n",
      " [0 0 1 0 0]]\n",
      "kernel3=\n",
      " [[0 0 1 0 0]\n",
      " [1 1 1 1 1]\n",
      " [1 1 1 1 1]\n",
      " [1 1 1 1 1]\n",
      " [0 0 1 0 0]]\n"
     ]
    }
   ],
   "source": [
    "import cv2\n",
    "kernel1 = cv2.getStructuringElement(cv2.MORPH_RECT, (5,5))  # MORPH_RECT方形\n",
    "kernel2 = cv2.getStructuringElement(cv2.MORPH_CROSS,  (5,5)) # MORPH_CROSS十字形\n",
    "kernel3 = cv2.getStructuringElement(cv2.MORPH_ELLIPSE,  (5,5)) #MORPH_ELLIPSE橢圓\n",
    "print(\"kernel1=\\n\",kernel1)\n",
    "print(\"kernel2=\\n\",kernel2)\n",
    "print(\"kernel3=\\n\",kernel3)"
   ]
  },
  {
   "cell_type": "code",
   "execution_count": null,
   "metadata": {},
   "outputs": [],
   "source": []
  }
 ],
 "metadata": {
  "kernelspec": {
   "display_name": "Python 3",
   "language": "python",
   "name": "python3"
  },
  "language_info": {
   "codemirror_mode": {
    "name": "ipython",
    "version": 3
   },
   "file_extension": ".py",
   "mimetype": "text/x-python",
   "name": "python",
   "nbconvert_exporter": "python",
   "pygments_lexer": "ipython3",
   "version": "3.7.9"
  }
 },
 "nbformat": 4,
 "nbformat_minor": 2
}
