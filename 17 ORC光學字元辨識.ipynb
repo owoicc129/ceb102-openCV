{
 "cells": [
  {
   "cell_type": "markdown",
   "metadata": {},
   "source": [
    "# OCR 光學電腦辨識  可以辨認圖片裡文字"
   ]
  },
  {
   "cell_type": "markdown",
   "metadata": {},
   "source": [
    "`pip install pytesseract\n",
    "pip install Pillow`"
   ]
  },
  {
   "cell_type": "code",
   "execution_count": 1,
   "metadata": {},
   "outputs": [
    {
     "name": "stdout",
     "output_type": "stream",
     "text": [
      "BREAKING THE STATUE\n",
      "\n",
      "i have always known\n",
      "\n",
      "i just didn't understand\n",
      "the inner conflictions\n",
      "arresting our hands\n",
      "gravitating close enough\n",
      "expansive distamce between\n",
      "i couldn't give you more\n",
      "but i meant everything\n",
      "when the day comes\n",
      "\n",
      "you find your heart\n",
      "\n",
      "wants something more\n",
      "\n",
      "than a viece and a part\n",
      "your life will change\n",
      "like astatue set free\n",
      "\n",
      "to walk among us\n",
      "\n",
      "to created estiny\n",
      "\n",
      "we didn't break any rules\n",
      "we didn't make mistakes\n",
      "making beauty in loving\n",
      "making lovine for days\n",
      "\n",
      "SHILOW\n",
      "\f",
      "\n"
     ]
    }
   ],
   "source": [
    "# download binary \n",
    "# https://github.com/UB-Mannheim/tesseract/wiki\n",
    "#安裝這網址的64 bit 記住下載到哪個位置\n",
    "\n",
    "from PIL import Image\n",
    "import pytesseract\n",
    "\n",
    "pytesseract.pytesseract.tesseract_cmd = 'C:/Program Files/Tesseract-OCR/tesseract.exe'\n",
    "\n",
    "image = Image.open(\"./images/test.jpeg\")\n",
    "\n",
    "code = pytesseract.image_to_string(image)\n",
    "print(code)"
   ]
  }
 ],
 "metadata": {
  "kernelspec": {
   "display_name": "Python 3",
   "language": "python",
   "name": "python3"
  },
  "language_info": {
   "codemirror_mode": {
    "name": "ipython",
    "version": 3
   },
   "file_extension": ".py",
   "mimetype": "text/x-python",
   "name": "python",
   "nbconvert_exporter": "python",
   "pygments_lexer": "ipython3",
   "version": "3.7.9"
  }
 },
 "nbformat": 4,
 "nbformat_minor": 4
}
