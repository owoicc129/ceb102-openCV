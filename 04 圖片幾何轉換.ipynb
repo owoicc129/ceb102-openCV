{
 "cells": [
  {
   "cell_type": "markdown",
   "metadata": {},
   "source": [
    "## Scaling 縮放圖片"
   ]
  },
  {
   "cell_type": "code",
   "execution_count": 1,
   "metadata": {},
   "outputs": [],
   "source": [
    "import cv2\n",
    "img=cv2.imread('./images/cat.jpg')\n",
    "\n",
    "# 只是把圖片壓縮到一個大小 沒有等比例\n",
    "resized_img1 = cv2.resize(img,(200,100))\n",
    "\n",
    "#照片拉大 像素變多 用內差法補那些多的像素\n",
    "#                           多一個維度  xy都放大1.6倍\n",
    "resized_img2 = cv2.resize(img, None, fx=1.6, fy=1.6, interpolation=cv2.INTER_AREA)\n",
    "\n",
    "cv2.imshow('resized image1',resized_img1)\n",
    "cv2.imshow('resized image2',resized_img2)\n",
    "\n",
    "\n",
    "cv2.waitKey(0) \n",
    "cv2.destroyAllWindows()"
   ]
  },
  {
   "cell_type": "markdown",
   "metadata": {},
   "source": [
    "## Flip 翻轉"
   ]
  },
  {
   "cell_type": "code",
   "execution_count": 2,
   "metadata": {},
   "outputs": [],
   "source": [
    "import cv2\n",
    "origin = cv2.imread('./images/cat.jpg')\n",
    "\n",
    "flip_x = cv2.flip(img, 0) #對X翻\n",
    "flip_y = cv2.flip(img, 1) #對y翻\n",
    "flip_xy = cv2.flip(img, -1) #對Xy翻\n",
    "\n",
    "cv2.imshow('origin', origin)\n",
    "cv2.imshow('flip x', flip_x)\n",
    "cv2.imshow('flip y', flip_y)\n",
    "cv2.imshow('flip xy', flip_xy)\n",
    "\n",
    "\n",
    "cv2.waitKey(0) \n",
    "cv2.destroyAllWindows()"
   ]
  },
  {
   "cell_type": "markdown",
   "metadata": {},
   "source": [
    "## Translation 平移"
   ]
  },
  {
   "cell_type": "code",
   "execution_count": 4,
   "metadata": {},
   "outputs": [],
   "source": [
    "import cv2\n",
    "import numpy as np\n",
    "origin = cv2.imread('./images/cat.jpg')\n",
    "\n",
    "trans_x = 20 # 設定x要平移的長度\n",
    "trans_y = 30\n",
    "height, width = img.shape[:2]\n",
    "\n",
    "#看課本p.26 要平移要設成 [1,0,x] [0,1,y]  設定一個M矩陣\n",
    "M = np.float32([[1, 0, trans_x], [0, 1, trans_y]]) \n",
    "\n",
    "trans_img = cv2.warpAffine(origin, M, (width, height))\n",
    "cv2.imshow('origin', origin)\n",
    "cv2.imshow('trans_img', trans_img)\n",
    "\n",
    "\n",
    "cv2.waitKey(0) \n",
    "cv2.destroyAllWindows()"
   ]
  },
  {
   "cell_type": "markdown",
   "metadata": {},
   "source": [
    "## Rotation 旋轉"
   ]
  },
  {
   "cell_type": "code",
   "execution_count": 5,
   "metadata": {},
   "outputs": [],
   "source": [
    "import cv2\n",
    "import numpy as np\n",
    "origin = cv2.imread('./images/cat.jpg')\n",
    "\n",
    "height, width = img.shape[:2]\n",
    "\n",
    "M1 = cv2.getRotationMatrix2D((width/2, height/2), 45, 0.6) #坐標軸,轉幾度,縮放幾倍\n",
    "M2 = cv2.getRotationMatrix2D((0, 0), 45, 0.3) #坐標軸,轉幾度,縮放幾倍\n",
    "M3 = cv2.getRotationMatrix2D((0, height), 45, 0.3) #坐標軸,轉幾度,縮放幾倍\n",
    "\n",
    "rotate_img1 = cv2.warpAffine(origin, M1, (width, height))\n",
    "rotate_img2 = cv2.warpAffine(origin, M2, (width, height))\n",
    "rotate_img3 = cv2.warpAffine(origin, M3, (width, height))\n",
    "\n",
    "cv2.imshow('origin', origin)\n",
    "cv2.imshow('rotate_img1', rotate_img1)\n",
    "cv2.imshow('rotate_img2', rotate_img2)\n",
    "cv2.imshow('rotate_img3', rotate_img3)\n",
    "\n",
    " \n",
    "cv2.waitKey(0) \n",
    "cv2.destroyAllWindows()"
   ]
  },
  {
   "cell_type": "markdown",
   "metadata": {},
   "source": [
    "## Affine Transformation \n",
    "不知道M矩陣怎麼算時，直接把轉換前轉換後座標給他 讓他算出M"
   ]
  },
  {
   "cell_type": "code",
   "execution_count": 3,
   "metadata": {},
   "outputs": [],
   "source": [
    "import cv2\n",
    "import numpy as np\n",
    "\n",
    "img = cv2.imread('./images/cat.jpg')\n",
    "rows,cols,ch = img.shape\n",
    "pts1 = np.float32([[50,50],[200,50],[50,200]]) #座標[x,y]\n",
    "pts2 = np.float32([[10,100],[200,50],[100,250]])\n",
    "\n",
    "M = cv2.getAffineTransform(pts1,pts2)\n",
    "affine_img = cv2.warpAffine(img,M,(cols,rows))\n",
    "\n",
    "cv2.imshow('origin', origin)\n",
    "cv2.imshow('affine_img', affine_img)\n",
    "\n",
    "cv2.waitKey(0) \n",
    "cv2.destroyAllWindows()"
   ]
  }
 ],
 "metadata": {
  "kernelspec": {
   "display_name": "Python 3",
   "language": "python",
   "name": "python3"
  },
  "language_info": {
   "codemirror_mode": {
    "name": "ipython",
    "version": 3
   },
   "file_extension": ".py",
   "mimetype": "text/x-python",
   "name": "python",
   "nbconvert_exporter": "python",
   "pygments_lexer": "ipython3",
   "version": "3.7.9"
  }
 },
 "nbformat": 4,
 "nbformat_minor": 2
}
