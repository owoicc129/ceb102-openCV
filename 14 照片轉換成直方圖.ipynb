{
 "cells": [
  {
   "cell_type": "markdown",
   "metadata": {},
   "source": [
    "# Histogram\n",
    "反映圖片亮度、色彩、強度 在照片裡分布的情況"
   ]
  },
  {
   "cell_type": "markdown",
   "metadata": {},
   "source": [
    "#### 1.用matplotlib畫直方圖 (整張照片 看強度)"
   ]
  },
  {
   "cell_type": "code",
   "execution_count": 2,
   "metadata": {},
   "outputs": [
    {
     "data": {
      "image/png": "[encoded data removed]",
      "text/plain": [
       "<Figure size 432x288 with 1 Axes>"
      ]
     },
     "metadata": {
      "needs_background": "light"
     },
     "output_type": "display_data"
    }
   ],
   "source": [
    "import cv2\n",
    "import matplotlib.pyplot as plt\n",
    "\n",
    "o=cv2.imread(\"./images/boat.jpg\")\n",
    "cv2.imshow(\"original\",o)\n",
    "\n",
    "#plt.hist() matplotlib畫直方圖語法\n",
    "plt.hist(o.ravel(),256) # .ravel() 把照片攤平為一維度 分256份\n",
    "plt.show()\n",
    "\n",
    "cv2.waitKey()\n",
    "cv2.destroyAllWindows()"
   ]
  },
  {
   "cell_type": "code",
   "execution_count": 3,
   "metadata": {},
   "outputs": [
    {
     "data": {
      "image/png": "[encoded data removed]",
      "text/plain": [
       "<Figure size 432x288 with 1 Axes>"
      ]
     },
     "metadata": {
      "needs_background": "light"
     },
     "output_type": "display_data"
    }
   ],
   "source": [
    "import cv2\n",
    "import matplotlib.pyplot as plt\n",
    "\n",
    "o=cv2.imread(\"./images/boat.jpg\")\n",
    "\n",
    "# 分成16個bins\n",
    "plt.hist(o.ravel(),16)\n",
    "plt.show()"
   ]
  },
  {
   "cell_type": "markdown",
   "metadata": {},
   "source": [
    "#### 2.用openCV畫直方圖 (照片分層 看強度)"
   ]
  },
  {
   "cell_type": "code",
   "execution_count": 8,
   "metadata": {},
   "outputs": [
    {
     "name": "stdout",
     "output_type": "stream",
     "text": [
      "(512, 512, 3)\n",
      "<class 'numpy.ndarray'>\n",
      "(256, 1)\n",
      "256\n",
      "[[0.0000e+00]\n",
      " [0.0000e+00]\n",
      " [0.0000e+00]\n",
      " [0.0000e+00]\n",
      " [0.0000e+00]\n",
      " [0.0000e+00]\n",
      " [0.0000e+00]\n",
      " [0.0000e+00]\n",
      " [0.0000e+00]\n",
      " [0.0000e+00]\n",
      " [0.0000e+00]\n",
      " [0.0000e+00]\n",
      " [0.0000e+00]\n",
      " [0.0000e+00]\n",
      " [0.0000e+00]\n",
      " [0.0000e+00]\n",
      " [0.0000e+00]\n",
      " [0.0000e+00]\n",
      " [0.0000e+00]\n",
      " [0.0000e+00]\n",
      " [0.0000e+00]\n",
      " [0.0000e+00]\n",
      " [0.0000e+00]\n",
      " [0.0000e+00]\n",
      " [0.0000e+00]\n",
      " [0.0000e+00]\n",
      " [0.0000e+00]\n",
      " [0.0000e+00]\n",
      " [4.7400e+02]\n",
      " [0.0000e+00]\n",
      " [0.0000e+00]\n",
      " [0.0000e+00]\n",
      " [0.0000e+00]\n",
      " [0.0000e+00]\n",
      " [0.0000e+00]\n",
      " [0.0000e+00]\n",
      " [4.4770e+03]\n",
      " [0.0000e+00]\n",
      " [0.0000e+00]\n",
      " [0.0000e+00]\n",
      " [0.0000e+00]\n",
      " [0.0000e+00]\n",
      " [0.0000e+00]\n",
      " [0.0000e+00]\n",
      " [1.3395e+04]\n",
      " [0.0000e+00]\n",
      " [0.0000e+00]\n",
      " [0.0000e+00]\n",
      " [0.0000e+00]\n",
      " [0.0000e+00]\n",
      " [0.0000e+00]\n",
      " [0.0000e+00]\n",
      " [1.5131e+04]\n",
      " [0.0000e+00]\n",
      " [0.0000e+00]\n",
      " [0.0000e+00]\n",
      " [0.0000e+00]\n",
      " [0.0000e+00]\n",
      " [0.0000e+00]\n",
      " [0.0000e+00]\n",
      " [9.4610e+03]\n",
      " [0.0000e+00]\n",
      " [0.0000e+00]\n",
      " [0.0000e+00]\n",
      " [0.0000e+00]\n",
      " [0.0000e+00]\n",
      " [0.0000e+00]\n",
      " [0.0000e+00]\n",
      " [6.5690e+03]\n",
      " [0.0000e+00]\n",
      " [0.0000e+00]\n",
      " [0.0000e+00]\n",
      " [0.0000e+00]\n",
      " [0.0000e+00]\n",
      " [0.0000e+00]\n",
      " [0.0000e+00]\n",
      " [7.0270e+03]\n",
      " [0.0000e+00]\n",
      " [0.0000e+00]\n",
      " [0.0000e+00]\n",
      " [0.0000e+00]\n",
      " [0.0000e+00]\n",
      " [0.0000e+00]\n",
      " [0.0000e+00]\n",
      " [7.7330e+03]\n",
      " [0.0000e+00]\n",
      " [0.0000e+00]\n",
      " [0.0000e+00]\n",
      " [0.0000e+00]\n",
      " [0.0000e+00]\n",
      " [0.0000e+00]\n",
      " [0.0000e+00]\n",
      " [1.0330e+04]\n",
      " [0.0000e+00]\n",
      " [0.0000e+00]\n",
      " [0.0000e+00]\n",
      " [0.0000e+00]\n",
      " [0.0000e+00]\n",
      " [0.0000e+00]\n",
      " [0.0000e+00]\n",
      " [1.4865e+04]\n",
      " [0.0000e+00]\n",
      " [0.0000e+00]\n",
      " [0.0000e+00]\n",
      " [0.0000e+00]\n",
      " [0.0000e+00]\n",
      " [0.0000e+00]\n",
      " [0.0000e+00]\n",
      " [1.2095e+04]\n",
      " [0.0000e+00]\n",
      " [0.0000e+00]\n",
      " [0.0000e+00]\n",
      " [0.0000e+00]\n",
      " [0.0000e+00]\n",
      " [0.0000e+00]\n",
      " [0.0000e+00]\n",
      " [1.1631e+04]\n",
      " [0.0000e+00]\n",
      " [0.0000e+00]\n",
      " [0.0000e+00]\n",
      " [0.0000e+00]\n",
      " [0.0000e+00]\n",
      " [0.0000e+00]\n",
      " [0.0000e+00]\n",
      " [1.6153e+04]\n",
      " [0.0000e+00]\n",
      " [0.0000e+00]\n",
      " [0.0000e+00]\n",
      " [0.0000e+00]\n",
      " [0.0000e+00]\n",
      " [0.0000e+00]\n",
      " [0.0000e+00]\n",
      " [1.7429e+04]\n",
      " [0.0000e+00]\n",
      " [0.0000e+00]\n",
      " [0.0000e+00]\n",
      " [0.0000e+00]\n",
      " [0.0000e+00]\n",
      " [0.0000e+00]\n",
      " [0.0000e+00]\n",
      " [1.7623e+04]\n",
      " [0.0000e+00]\n",
      " [0.0000e+00]\n",
      " [0.0000e+00]\n",
      " [0.0000e+00]\n",
      " [0.0000e+00]\n",
      " [0.0000e+00]\n",
      " [0.0000e+00]\n",
      " [1.8636e+04]\n",
      " [0.0000e+00]\n",
      " [0.0000e+00]\n",
      " [0.0000e+00]\n",
      " [0.0000e+00]\n",
      " [0.0000e+00]\n",
      " [0.0000e+00]\n",
      " [0.0000e+00]\n",
      " [1.9688e+04]\n",
      " [0.0000e+00]\n",
      " [0.0000e+00]\n",
      " [0.0000e+00]\n",
      " [0.0000e+00]\n",
      " [0.0000e+00]\n",
      " [0.0000e+00]\n",
      " [0.0000e+00]\n",
      " [1.2554e+04]\n",
      " [0.0000e+00]\n",
      " [0.0000e+00]\n",
      " [0.0000e+00]\n",
      " [0.0000e+00]\n",
      " [0.0000e+00]\n",
      " [0.0000e+00]\n",
      " [0.0000e+00]\n",
      " [9.8480e+03]\n",
      " [0.0000e+00]\n",
      " [0.0000e+00]\n",
      " [0.0000e+00]\n",
      " [0.0000e+00]\n",
      " [0.0000e+00]\n",
      " [0.0000e+00]\n",
      " [0.0000e+00]\n",
      " [7.3800e+03]\n",
      " [0.0000e+00]\n",
      " [0.0000e+00]\n",
      " [0.0000e+00]\n",
      " [0.0000e+00]\n",
      " [0.0000e+00]\n",
      " [0.0000e+00]\n",
      " [0.0000e+00]\n",
      " [5.5890e+03]\n",
      " [0.0000e+00]\n",
      " [0.0000e+00]\n",
      " [0.0000e+00]\n",
      " [0.0000e+00]\n",
      " [0.0000e+00]\n",
      " [0.0000e+00]\n",
      " [0.0000e+00]\n",
      " [7.1620e+03]\n",
      " [0.0000e+00]\n",
      " [0.0000e+00]\n",
      " [0.0000e+00]\n",
      " [0.0000e+00]\n",
      " [0.0000e+00]\n",
      " [0.0000e+00]\n",
      " [0.0000e+00]\n",
      " [7.4510e+03]\n",
      " [0.0000e+00]\n",
      " [0.0000e+00]\n",
      " [0.0000e+00]\n",
      " [0.0000e+00]\n",
      " [0.0000e+00]\n",
      " [0.0000e+00]\n",
      " [0.0000e+00]\n",
      " [6.6990e+03]\n",
      " [0.0000e+00]\n",
      " [0.0000e+00]\n",
      " [0.0000e+00]\n",
      " [0.0000e+00]\n",
      " [0.0000e+00]\n",
      " [0.0000e+00]\n",
      " [0.0000e+00]\n",
      " [2.2930e+03]\n",
      " [0.0000e+00]\n",
      " [0.0000e+00]\n",
      " [0.0000e+00]\n",
      " [0.0000e+00]\n",
      " [0.0000e+00]\n",
      " [0.0000e+00]\n",
      " [0.0000e+00]\n",
      " [4.2500e+02]\n",
      " [0.0000e+00]\n",
      " [0.0000e+00]\n",
      " [0.0000e+00]\n",
      " [0.0000e+00]\n",
      " [0.0000e+00]\n",
      " [0.0000e+00]\n",
      " [0.0000e+00]\n",
      " [2.2000e+01]\n",
      " [0.0000e+00]\n",
      " [0.0000e+00]\n",
      " [0.0000e+00]\n",
      " [0.0000e+00]\n",
      " [0.0000e+00]\n",
      " [0.0000e+00]\n",
      " [0.0000e+00]\n",
      " [4.0000e+00]\n",
      " [0.0000e+00]\n",
      " [0.0000e+00]\n",
      " [0.0000e+00]\n",
      " [0.0000e+00]\n",
      " [0.0000e+00]\n",
      " [0.0000e+00]\n",
      " [0.0000e+00]\n",
      " [0.0000e+00]\n",
      " [0.0000e+00]\n",
      " [0.0000e+00]\n",
      " [0.0000e+00]]\n"
     ]
    }
   ],
   "source": [
    "import cv2\n",
    "\n",
    "img=cv2.imread(\"./images/lena.bmp\")\n",
    "print(img.shape) # 有BGR三層 看你要看哪一層\n",
    "                \n",
    "hist = cv2.calcHist([img],[0],None,[256],[0,255])  #(照片,深度:第幾層,mask,分幾份,區間)\n",
    "\n",
    "print(type(hist))\n",
    "print(hist.shape)\n",
    "print(hist.size)\n",
    "print(hist) #像素\n"
   ]
  },
  {
   "cell_type": "code",
   "execution_count": 12,
   "metadata": {},
   "outputs": [
    {
     "data": {
      "image/png": "[encoded data removed]",
      "text/plain": [
       "<Figure size 432x288 with 1 Axes>"
      ]
     },
     "metadata": {
      "needs_background": "light"
     },
     "output_type": "display_data"
    }
   ],
   "source": [
    "import cv2\n",
    "import matplotlib.pyplot as plt\n",
    "\n",
    "o=cv2.imread(\"./images/boatGray.bmp\")\n",
    "\n",
    "histb = cv2.calcHist([o],[0],None,[256],[0,255]) #(照片,深度:第幾層,mask,分幾份,區間)\n",
    "\n",
    "plt.plot(histb,color='b') #畫線\n",
    "plt.show()"
   ]
  },
  {
   "cell_type": "markdown",
   "metadata": {},
   "source": [
    "#### 一次看BGR三層 強度分布"
   ]
  },
  {
   "cell_type": "code",
   "execution_count": 9,
   "metadata": {},
   "outputs": [
    {
     "data": {
      "image/png": "[encoded data removed]",
      "text/plain": [
       "<Figure size 432x288 with 1 Axes>"
      ]
     },
     "metadata": {
      "needs_background": "light"
     },
     "output_type": "display_data"
    }
   ],
   "source": [
    "import cv2\n",
    "import matplotlib.pyplot as plt\n",
    "o=cv2.imread(\"./images/girl.bmp\")\n",
    "\n",
    "histb = cv2.calcHist([o],[0],None,[256],[0,255])  #(照片,深度:第幾層,mask,分幾份,區間)\n",
    "histg = cv2.calcHist([o],[1],None,[256],[0,255])\n",
    "histr = cv2.calcHist([o],[2],None,[256],[0,255])\n",
    "\n",
    "plt.plot(histb,color='b')\n",
    "plt.plot(histg,color='g')\n",
    "plt.plot(histr,color='r')\n",
    "plt.show()"
   ]
  },
  {
   "cell_type": "markdown",
   "metadata": {},
   "source": [
    "#### 使用遮罩"
   ]
  },
  {
   "cell_type": "code",
   "execution_count": 1,
   "metadata": {},
   "outputs": [
    {
     "data": {
      "image/png": "[encoded data removed]",
      "text/plain": [
       "<Figure size 432x288 with 1 Axes>"
      ]
     },
     "metadata": {
      "needs_background": "light"
     },
     "output_type": "display_data"
    }
   ],
   "source": [
    "import cv2\n",
    "import numpy as np\n",
    "import matplotlib.pyplot as plt\n",
    "\n",
    "image=cv2.imread(\"./images/girl.bmp\",cv2.IMREAD_GRAYSCALE) #灰階 只有一層\n",
    "\n",
    "mask=np.zeros(image.shape,np.uint8) #設一個跟圖片一樣大的矩陣 內容填0\n",
    "mask[200:400,200:400]=255  #mask[x,y] 通常只會寫255或0(表示八個1或八個0)\n",
    "\n",
    "histImage=cv2.calcHist([image],[0],None,[256],[0,255]) #(照片,深度:第幾層,mask,分幾份,區間)\n",
    "histMI=cv2.calcHist([image],[0],mask,[256],[0,255])\n",
    "\n",
    "plt.plot(histImage) #藍\n",
    "plt.plot(histMI) #橘\n",
    "plt.show()\n",
    "\n",
    "cv2.imshow('image',image)\n",
    "cv2.imshow('mask',mask)\n",
    "\n",
    "cv2.waitKey()\n",
    "cv2.destroyAllWindows()"
   ]
  },
  {
   "cell_type": "markdown",
   "metadata": {},
   "source": [
    "# Histogram equalization 直方圖均衡化\n",
    "`讓照片\"對比度\" 變明顯`"
   ]
  },
  {
   "cell_type": "code",
   "execution_count": 3,
   "metadata": {},
   "outputs": [
    {
     "data": {
      "image/png": "[encoded data removed]",
      "text/plain": [
       "<Figure size 432x288 with 1 Axes>"
      ]
     },
     "metadata": {
      "needs_background": "light"
     },
     "output_type": "display_data"
    },
    {
     "data": {
      "image/png": "[encoded data removed]",
      "text/plain": [
       "<Figure size 432x288 with 1 Axes>"
      ]
     },
     "metadata": {
      "needs_background": "light"
     },
     "output_type": "display_data"
    }
   ],
   "source": [
    "import cv2\n",
    "import matplotlib.pyplot as plt\n",
    "\n",
    "img = cv2.imread('./images/equ.bmp',cv2.IMREAD_GRAYSCALE)\n",
    "\n",
    "equ = cv2.equalizeHist(img) #直方圖均衡化\n",
    "\n",
    "#------比較均衡化前後的直方圖------\n",
    "\n",
    "plt.figure()  #建獨立一張圖\n",
    "plt.hist(img.ravel(),256)  # .ravel() 把照片攤平為一維度 且256等分\n",
    "\n",
    "plt.figure()  \n",
    "plt.hist(equ.ravel(),256)\n",
    "\n",
    "#-----比較均衡化前後的照片-----\n",
    "\n",
    "cv2.imshow(\"original\",img)\n",
    "cv2.imshow(\"result\",equ)\n",
    "\n",
    "cv2.waitKey()\n",
    "cv2.destroyAllWindows()"
   ]
  }
 ],
 "metadata": {
  "kernelspec": {
   "display_name": "Python 3",
   "language": "python",
   "name": "python3"
  },
  "language_info": {
   "codemirror_mode": {
    "name": "ipython",
    "version": 3
   },
   "file_extension": ".py",
   "mimetype": "text/x-python",
   "name": "python",
   "nbconvert_exporter": "python",
   "pygments_lexer": "ipython3",
   "version": "3.7.9"
  }
 },
 "nbformat": 4,
 "nbformat_minor": 4
}
