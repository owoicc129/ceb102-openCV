{
 "cells": [
  {
   "cell_type": "markdown",
   "metadata": {},
   "source": [
    "#### 取絕對值"
   ]
  },
  {
   "cell_type": "code",
   "execution_count": 1,
   "metadata": {},
   "outputs": [
    {
     "name": "stdout",
     "output_type": "stream",
     "text": [
      "img=\n",
      " [[-180  235  152    0 -123]\n",
      " [  11   11  248   37  245]\n",
      " [-255  255  103  122   -4]\n",
      " [-114 -126  223  191 -111]]\n",
      "rst=\n",
      " [[180 235 152   0 123]\n",
      " [ 11  11 248  37 245]\n",
      " [255 255 103 122   4]\n",
      " [114 126 223 191 111]]\n"
     ]
    }
   ],
   "source": [
    "import cv2\n",
    "import numpy as np\n",
    "img=np.random.randint(-256,256,size=[4,5],dtype=np.int16) #從-256~256 256不算，隨機\n",
    "rst=cv2.convertScaleAbs(img)  #.convertScaleAbs 取絕對值\n",
    "print(\"img=\\n\",img)\n",
    "print(\"rst=\\n\",rst)"
   ]
  },
  {
   "cell_type": "markdown",
   "metadata": {},
   "source": [
    "## Sobel 一階維分 (指3*3的矩陣)\n",
    "- x軸"
   ]
  },
  {
   "cell_type": "code",
   "execution_count": 2,
   "metadata": {},
   "outputs": [],
   "source": [
    "import cv2\n",
    "o = cv2.imread('./images/sobel4.bmp',cv2.IMREAD_GRAYSCALE)\n",
    "\n",
    "sobelx = cv2.Sobel(o,-1,1,0) # 1,0 對x作微分\n",
    "#發現 有些x邊沒出現，因為在做維分時 變成負數 就不會出現\n",
    "\n",
    "cv2.imshow(\"original\",o)\n",
    "cv2.imshow(\"x\",sobelx)\n",
    "cv2.waitKey()\n",
    "cv2.destroyAllWindows()"
   ]
  },
  {
   "cell_type": "code",
   "execution_count": 1,
   "metadata": {},
   "outputs": [],
   "source": [
    "import cv2\n",
    "o = cv2.imread('./images/sobel4.bmp',cv2.IMREAD_GRAYSCALE)\n",
    "sobelx = cv2.Sobel(o,cv2.CV_64F,1,0)\n",
    "\n",
    " #.convertScaleAbs 取絕對值 才能取到所有x邊\n",
    "sobelx = cv2.convertScaleAbs(sobelx)   # 轉回uint8  \n",
    "\n",
    "cv2.imshow(\"original\",o)\n",
    "cv2.imshow(\"x\",sobelx)\n",
    "cv2.waitKey()\n",
    "cv2.destroyAllWindows()"
   ]
  },
  {
   "cell_type": "markdown",
   "metadata": {},
   "source": [
    "- y軸"
   ]
  },
  {
   "cell_type": "code",
   "execution_count": 2,
   "metadata": {},
   "outputs": [],
   "source": [
    "import cv2\n",
    "o = cv2.imread('./images/sobel4.bmp',cv2.IMREAD_GRAYSCALE)\n",
    "\n",
    "sobely = cv2.Sobel(o,cv2.CV_64F,0,1) # 0,1 對y作微分\n",
    "sobely = cv2.convertScaleAbs(sobely)\n",
    "cv2.imshow(\"original\",o)\n",
    "\n",
    "cv2.imshow(\"y\",sobely)\n",
    "cv2.waitKey()\n",
    "cv2.destroyAllWindows()"
   ]
  },
  {
   "cell_type": "markdown",
   "metadata": {},
   "source": [
    "- x y 軸"
   ]
  },
  {
   "cell_type": "code",
   "execution_count": 13,
   "metadata": {},
   "outputs": [],
   "source": [
    "import cv2\n",
    "o = cv2.imread('./images/sobel4.bmp',cv2.IMREAD_GRAYSCALE)\n",
    "\n",
    "sobelxy=cv2.Sobel(o,cv2.CV_64F,1,1) # 1,1對xy一起做微分\n",
    "sobelxy=cv2.convertScaleAbs(sobelxy) \n",
    "cv2.imshow(\"original\",o)\n",
    "\n",
    "cv2.imshow(\"xy\",sobelxy)\n",
    "cv2.waitKey()\n",
    "cv2.destroyAllWindows()"
   ]
  },
  {
   "cell_type": "code",
   "execution_count": 12,
   "metadata": {},
   "outputs": [],
   "source": [
    "import cv2\n",
    "o = cv2.imread('./images/sobel4.bmp',cv2.IMREAD_GRAYSCALE)\n",
    "\n",
    "sobelx = cv2.Sobel(o,cv2.CV_64F,1,0) # 先對x\n",
    "sobely = cv2.Sobel(o,cv2.CV_64F,0,1) # 再對y\n",
    "sobelx = cv2.convertScaleAbs(sobelx) \n",
    "sobely = cv2.convertScaleAbs(sobely)  \n",
    "\n",
    "#加權平均，把xy合併 且顯示的重量平均\n",
    "sobelxy =  cv2.addWeighted(sobelx,0.5,sobely,0.1,0) \n",
    "\n",
    "cv2.imshow(\"original\",o)\n",
    "cv2.imshow(\"xy\",sobelxy)\n",
    "cv2.waitKey()\n",
    "cv2.destroyAllWindows()"
   ]
  },
  {
   "cell_type": "code",
   "execution_count": 9,
   "metadata": {},
   "outputs": [],
   "source": [
    "import cv2\n",
    "o = cv2.imread('./images/lena.bmp',cv2.IMREAD_GRAYSCALE)\n",
    "\n",
    "sobelx = cv2.Sobel(o,cv2.CV_64F,1,0)\n",
    "sobely = cv2.Sobel(o,cv2.CV_64F,0,1)\n",
    "sobelx = cv2.convertScaleAbs(sobelx)  \n",
    "sobely = cv2.convertScaleAbs(sobely)  \n",
    "\n",
    " #加權平均，把xy合併 且顯示的重量平均\n",
    "sobelxy =  cv2.addWeighted(sobelx,0.5,sobely,0.5,0) \n",
    "\n",
    "sobelxy11=cv2.Sobel(o,cv2.CV_64F,1,1) #又把xy在做一次維分\n",
    "sobelxy11=cv2.convertScaleAbs(sobelxy11) \n",
    "\n",
    "cv2.imshow(\"original\",o)\n",
    "cv2.imshow(\"xy\",sobelxy)\n",
    "cv2.imshow(\"xy11\",sobelxy11)\n",
    "cv2.waitKey()\n",
    "cv2.destroyAllWindows()"
   ]
  },
  {
   "cell_type": "markdown",
   "metadata": {},
   "source": [
    "## Scharr 一階維分 只是倍數比sobel大"
   ]
  },
  {
   "cell_type": "code",
   "execution_count": 14,
   "metadata": {},
   "outputs": [],
   "source": [
    "import cv2\n",
    "o = cv2.imread('./images/scharr.bmp',cv2.IMREAD_GRAYSCALE)\n",
    "scharrx = cv2.Scharr(o,cv2.CV_64F,1,0)\n",
    "scharrx = cv2.convertScaleAbs(scharrx)   # 轉回uint8 \n",
    "cv2.imshow(\"original\",o)\n",
    "cv2.imshow(\"x\",scharrx)\n",
    "cv2.waitKey()\n",
    "cv2.destroyAllWindows()"
   ]
  },
  {
   "cell_type": "code",
   "execution_count": 4,
   "metadata": {},
   "outputs": [],
   "source": [
    "import cv2\n",
    "o = cv2.imread('./images/scharr.bmp',cv2.IMREAD_GRAYSCALE)\n",
    "scharry = cv2.Scharr(o,cv2.CV_64F,0,1)\n",
    "scharry = cv2.convertScaleAbs(scharry)  \n",
    "cv2.imshow(\"original\",o)\n",
    "cv2.imshow(\"y\",scharry)\n",
    "cv2.waitKey()\n",
    "cv2.destroyAllWindows()"
   ]
  },
  {
   "cell_type": "code",
   "execution_count": 15,
   "metadata": {},
   "outputs": [],
   "source": [
    "import cv2\n",
    "o = cv2.imread('./images/scharr.bmp',cv2.IMREAD_GRAYSCALE)\n",
    "scharrx = cv2.Scharr(o,cv2.CV_64F,1,0)\n",
    "scharry = cv2.Scharr(o,cv2.CV_64F,0,1)\n",
    "scharrx = cv2.convertScaleAbs(scharrx)   # 轉回uint8 \n",
    "scharry = cv2.convertScaleAbs(scharry)  \n",
    "scharrxy =  cv2.addWeighted(scharrx,0.5,scharry,0.5,0)  \n",
    "cv2.imshow(\"original\",o)\n",
    "cv2.imshow(\"xy\",scharrxy)\n",
    "cv2.waitKey()\n",
    "cv2.destroyAllWindows()"
   ]
  },
  {
   "cell_type": "markdown",
   "metadata": {},
   "source": [
    "## Compare Sobel and Scharr 比較"
   ]
  },
  {
   "cell_type": "code",
   "execution_count": 16,
   "metadata": {},
   "outputs": [],
   "source": [
    "import cv2\n",
    "o = cv2.imread('./images/lena.bmp',cv2.IMREAD_GRAYSCALE)\n",
    "\n",
    "sobelx = cv2.Sobel(o,cv2.CV_64F,1,0,ksize=3)\n",
    "sobely = cv2.Sobel(o,cv2.CV_64F,0,1,ksize=3)\n",
    "sobelx = cv2.convertScaleAbs(sobelx)   \n",
    "sobely = cv2.convertScaleAbs(sobely) \n",
    "sobelxy =  cv2.addWeighted(sobelx,0.5,sobely,0.5,0) \n",
    "\n",
    "scharrx = cv2.Scharr(o,cv2.CV_64F,1,0)\n",
    "scharry = cv2.Scharr(o,cv2.CV_64F,0,1)\n",
    "scharrx = cv2.convertScaleAbs(scharrx)  \n",
    "scharry = cv2.convertScaleAbs(scharry)  \n",
    "scharrxy =  cv2.addWeighted(scharrx,0.5,scharry,0.5,0) \n",
    "\n",
    "cv2.imshow(\"original\",o)\n",
    "cv2.imshow(\"sobelxy\",sobelxy)\n",
    "cv2.imshow(\"scharrxy\",scharrxy)\n",
    "cv2.waitKey()\n",
    "cv2.destroyAllWindows()"
   ]
  },
  {
   "cell_type": "markdown",
   "metadata": {},
   "source": [
    "## Laplacian 二階微分"
   ]
  },
  {
   "cell_type": "code",
   "execution_count": 17,
   "metadata": {},
   "outputs": [],
   "source": [
    "import cv2\n",
    "o = cv2.imread('./images/Laplacian.bmp',cv2.IMREAD_GRAYSCALE)\n",
    "Laplacian = cv2.Laplacian(o,cv2.CV_64F)\n",
    "Laplacian = cv2.convertScaleAbs(Laplacian)   \n",
    "\n",
    "cv2.imshow(\"original\",o)\n",
    "cv2.imshow(\"Laplacian\",Laplacian)\n",
    "cv2.waitKey()\n",
    "cv2.destroyAllWindows()"
   ]
  },
  {
   "cell_type": "markdown",
   "metadata": {},
   "source": [
    "## Canny 邊緣偵測算法"
   ]
  },
  {
   "cell_type": "code",
   "execution_count": 12,
   "metadata": {},
   "outputs": [],
   "source": [
    "import cv2\n",
    "o=cv2.imread(\"./images/lena.bmp\",cv2.IMREAD_GRAYSCALE)\n",
    "r1=cv2.Canny(o,128,200) # 決定濾波器的 最小值,最大值\n",
    "r2=cv2.Canny(o,32,128) # 最小值,最大值 (訂的比較寬鬆，所以畫出來比較多邊)\n",
    "cv2.imshow(\"original\",o)\n",
    "cv2.imshow(\"result1\",r1)\n",
    "cv2.imshow(\"result2\",r2)\n",
    "cv2.waitKey()\n",
    "cv2.destroyAllWindows()"
   ]
  },
  {
   "cell_type": "code",
   "execution_count": null,
   "metadata": {},
   "outputs": [],
   "source": []
  }
 ],
 "metadata": {
  "kernelspec": {
   "display_name": "Python 3",
   "language": "python",
   "name": "python3"
  },
  "language_info": {
   "codemirror_mode": {
    "name": "ipython",
    "version": 3
   },
   "file_extension": ".py",
   "mimetype": "text/x-python",
   "name": "python",
   "nbconvert_exporter": "python",
   "pygments_lexer": "ipython3",
   "version": "3.7.9"
  }
 },
 "nbformat": 4,
 "nbformat_minor": 2
}
